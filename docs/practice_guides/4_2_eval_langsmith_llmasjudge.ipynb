{
  "cells": [
    {
      "cell_type": "markdown",
      "metadata": {
        "id": "HMjpbJe2Ob6J"
      },
      "source": [
        "# LLM as Judge 평가\n",
        "\n",
        "- Generate or Curate the QA Set\n",
        "- Automation Evalution\n",
        "\n"
      ]
    },
    {
      "cell_type": "markdown",
      "metadata": {
        "id": "JnGp2TAeZfYw"
      },
      "source": [
        "## Generate DataSet from ChatGPT\n",
        "\n",
        "  - 현존 가장 똑똑하다고 알려진 모델을 이용해서 데이터셋을 생성합니다.\n",
        "  - [ChatGPT, 데이터 셋 생성 대화](https://chatgpt.com/share/6249addb-b614-42ea-9e04-59e8d93a5b53)\n",
        "  - [My GPT, 프롬프팅 & Knowledge 기능을 이용한 데이터 셋 생성 대화](https://chatgpt.com/share/37127895-5214-4a46-91be-c9e47fea4fe8)\n",
        "    - 참고 - [삼국지피티](https://chatgpt.com/g/g-DcjNX7Scq-samgugjipiti)\n",
        "\n"
      ]
    },
    {
      "cell_type": "code",
      "execution_count": 1,
      "metadata": {
        "id": "0uBftMNEOcQy"
      },
      "outputs": [],
      "source": [
        "import pandas as pd\n",
        "\n",
        "data = {\n",
        "    \"Input\": [\n",
        "        \"삼국지연의의 저자는 누구입니까?\",\n",
        "        \"유비의 자는 무엇입니까?\",\n",
        "        \"조조의 자는 무엇입니까?\",\n",
        "        \"제갈량의 별명은 무엇입니까?\",\n",
        "        \"유비의 두 번째 부인의 이름은 무엇입니까?\",\n",
        "        \"관우의 무기는 무엇입니까?\",\n",
        "        \"장비의 무기는 무엇입니까?\",\n",
        "        \"삼국지연의에서 오나라를 세운 사람은 누구입니까?\",\n",
        "        \"조조의 아들 중 황제가 된 사람은 누구입니까?\",\n",
        "        \"조운의 자는 무엇입니까?\",\n",
        "        \"유비가 유일하게 패배한 전투는 무엇입니까?\",\n",
        "        \"조조의 정적 중 하나로 유명한 인물은 누구입니까?\",\n",
        "        \"관우가 죽음을 맞이한 곳은 어디입니까?\",\n",
        "        \"동탁의 양자는 누구입니까?\",\n",
        "        \"삼국지연의에서 유비의 의형제는 누구입니까?\",\n",
        "        \"제갈량이 북벌을 할 때 자주 사용한 계책은 무엇입니까?\",\n",
        "        \"육손이 활약한 전투는 무엇입니까?\"\n",
        "    ],\n",
        "    \"Output\": [\n",
        "        \"나관중\",\n",
        "        \"현덕\",\n",
        "        \"맹덕\",\n",
        "        \"와룡\",\n",
        "        \"손부인\",\n",
        "        \"청룡언월도\",\n",
        "        \"장팔사모\",\n",
        "        \"손권\",\n",
        "        \"조비\",\n",
        "        \"자룡\",\n",
        "        \"이릉대전\",\n",
        "        \"원소\",\n",
        "        \"맥성\",\n",
        "        \"여포\",\n",
        "        \"관우, 장비\",\n",
        "        \"공성계\",\n",
        "        \"이릉대전\"\n",
        "    ]\n",
        "}\n",
        "\n",
        "\n",
        "df = pd.DataFrame(data)\n",
        "df.to_csv('qa_dataset_match.csv', index=False, encoding='utf-8')"
      ]
    },
    {
      "cell_type": "code",
      "execution_count": 2,
      "metadata": {
        "id": "Bsy8RTuOOcS3"
      },
      "outputs": [],
      "source": [
        "import csv\n",
        "\n",
        "qa_dataset = [\n",
        "    {\"Input\": \"유비는 누구의 후손인가?\", \"Output\": \"유비는 한나라 경제의 후손입니다.\"},\n",
        "    {\"Input\": \"도원결의는 무엇인가?\", \"Output\": \"도원결의는 유비, 관우, 장비가 의형제를 맺은 사건입니다.\"},\n",
        "    {\"Input\": \"삼국지연의의 주요 세력 세 가지는?\", \"Output\": \"촉나라, 위나라, 오나라입니다.\"},\n",
        "    {\"Input\": \"제갈량이 유비에게 제시한 세 가지 전략은 무엇인가?\", \"Output\": \"형주를 차지하고, 익주를 취하고, 천하를 경영하라는 전략입니다.\"},\n",
        "    {\"Input\": \"조조가 제일 처음 출사한 관직은?\", \"Output\": \"낙양 북부도위입니다.\"},\n",
        "    {\"Input\": \"적벽대전에서 누가 화공을 사용했는가?\", \"Output\": \"주유와 황개가 화공을 사용했습니다.\"},\n",
        "    {\"Input\": \"장비의 별명은 무엇인가?\", \"Output\": \"장비의 별명은 익덕입니다.\"},\n",
        "    {\"Input\": \"관우가 살해된 장소는?\", \"Output\": \"관우는 맥성에서 살해되었습니다.\"},\n",
        "    {\"Input\": \"유비가 죽은 장소는?\", \"Output\": \"백제성에서 죽었습니다.\"},\n",
        "    {\"Input\": \"삼국지연의의 저자는?\", \"Output\": \"나관중입니다.\"},\n",
        "    {\"Input\": \"유비가 초기에 세운 나라는?\", \"Output\": \"유비는 촉한을 세웠습니다.\"},\n",
        "    {\"Input\": \"조조가 세운 나라는?\", \"Output\": \"조조는 위나라를 세웠습니다.\"},\n",
        "    {\"Input\": \"손권이 세운 나라는?\", \"Output\": \"손권은 오나라를 세웠습니다.\"},\n",
        "    {\"Input\": \"관우의 무기는 무엇인가?\", \"Output\": \"관우의 무기는 청룡언월도입니다.\"},\n",
        "    {\"Input\": \"황건적의 난을 진압한 인물은?\", \"Output\": \"황건적의 난을 진압한 인물은 황보숭과 주준입니다.\"},\n",
        "    {\"Input\": \"제갈량의 아내 이름은?\", \"Output\": \"제갈량의 아내는 황씨입니다.\"},\n",
        "    {\"Input\": \"유비가 제갈량을 세 번 찾아간 일화는 무엇인가?\", \"Output\": \"삼고초려입니다.\"},\n",
        "    {\"Input\": \"조조의 아들 중 황제가 된 인물은?\", \"Output\": \"조비입니다.\"},\n",
        "    {\"Input\": \"제갈량의 별명은?\", \"Output\": \"제갈량의 별명은 와룡입니다.\"},\n",
        "    {\"Input\": \"삼국지연의에서 마지막으로 멸망한 나라는?\", \"Output\": \"오나라입니다.\"}\n",
        "]\n",
        "\n",
        "with open('qa_dataset_sentence.csv', 'w', newline='', encoding='utf-8') as csvfile:\n",
        "    fieldnames = ['Input', 'Output']\n",
        "    writer = csv.DictWriter(csvfile, fieldnames=fieldnames)\n",
        "\n",
        "    writer.writeheader()\n",
        "    for qa in qa_dataset:\n",
        "        writer.writerow(qa)"
      ]
    },
    {
      "cell_type": "markdown",
      "metadata": {
        "id": "kL7xJcYmc8Zo"
      },
      "source": [
        "## Dataset 을 Langsmith에 올리기\n",
        "\n",
        "  - web interface 에서 직접 해도 됩니다.\n",
        "  - 코드로도 올려봅시다.\n",
        "  - 수정을 하면 version 이 생기고, tag 를 달 수도 있습니다.\n",
        "    - \"유비의 의형제\" 문제를 정답이 하나의 단어가 되도록 수정하고 태그를 달아봅시다.\n",
        "       (LangSmith Web Interface 로만 가능합니다.)"
      ]
    },
    {
      "cell_type": "code",
      "execution_count": null,
      "metadata": {
        "colab": {
          "base_uri": "https://localhost:8080/"
        },
        "collapsed": true,
        "id": "ga4vFUOpdJF5",
        "outputId": "07d3c622-d5a5-447e-8b5f-600fa19dff03",
        "scrolled": true
      },
      "outputs": [],
      "source": [
        "!pip install -U langsmith openai"
      ]
    },
    {
      "cell_type": "code",
      "execution_count": 4,
      "metadata": {
        "id": "e2A1cWYsdPWX"
      },
      "outputs": [],
      "source": [
        "import os\n",
        "\n",
        "os.environ[\"LANGCHAIN_TRACING_V2\"]=\"true\"\n",
        "os.environ[\"LANGCHAIN_API_KEY\"]=\"\""
      ]
    },
    {
      "cell_type": "code",
      "execution_count": 5,
      "metadata": {
        "id": "CRQvMk2ac7ur"
      },
      "outputs": [],
      "source": [
        "from langsmith import Client\n",
        "import os\n",
        "\n",
        "client = Client()"
      ]
    },
    {
      "cell_type": "code",
      "execution_count": 7,
      "metadata": {
        "id": "HRM9Vf2lOcU-"
      },
      "outputs": [],
      "source": [
        "csv_file = './qa_dataset_match.csv'\n",
        "input_keys = [\"Input\"] # replace with your input column names\n",
        "output_keys = [\"Output\"] # replace with your output column names\n",
        "\n",
        "dataset = client.upload_csv(\n",
        "    csv_file=csv_file,\n",
        "    input_keys=input_keys,\n",
        "    output_keys=output_keys,\n",
        "    name=\"threekingdoms-qa-words\",\n",
        "    description=\"\",\n",
        "    data_type=\"kv\"\n",
        ")"
      ]
    },
    {
      "cell_type": "markdown",
      "metadata": {
        "id": "OKhy0_MfVo5z"
      },
      "source": [
        "# Evaluate various models\n",
        "\n",
        "  - 삼국지 퀴즈를 데이터셋으로 자동 평가 테스트를 구축합니다\n",
        "  - 1. 평가할 모델 (LLM) 을 생성합니다.\n",
        "  - 2. 평가 방법 (= 채점 함수) 을 생성합니다.\n",
        "  - 3. 자동 평가를 수행하고, 결과를 관찰합니다."
      ]
    },
    {
      "cell_type": "code",
      "execution_count": null,
      "metadata": {
        "colab": {
          "base_uri": "https://localhost:8080/"
        },
        "id": "jHxWh5luhb32",
        "outputId": "cd5d143d-0887-4321-b27a-339e4ec683af"
      },
      "outputs": [],
      "source": [
        "!pip install openai"
      ]
    },
    {
      "cell_type": "code",
      "execution_count": 9,
      "metadata": {
        "id": "VuGJA5iShu1J"
      },
      "outputs": [],
      "source": [
        "os.environ[\"OPENAI_API_KEY\"]=\"\""
      ]
    },
    {
      "cell_type": "code",
      "execution_count": 10,
      "metadata": {
        "id": "Usc4P04tWLc6"
      },
      "outputs": [],
      "source": [
        "from langsmith import traceable, wrappers\n",
        "from openai import Client\n",
        "\n",
        "openai = wrappers.wrap_openai(Client())\n",
        "\n",
        "@traceable\n",
        "def label_text(text, model=\"gpt-4o-mini\"):\n",
        "    messages = [\n",
        "        {\n",
        "            \"role\": \"system\",\n",
        "            \"content\": \"Please read the user query below and answer the question in 1 word.\",\n",
        "        },\n",
        "        {\"role\": \"user\", \"content\": text},\n",
        "    ]\n",
        "    result = openai.chat.completions.create(\n",
        "        messages=messages, model=model, temperature=0\n",
        "    )\n",
        "    return result.choices[0].message.content"
      ]
    },
    {
      "cell_type": "code",
      "execution_count": null,
      "metadata": {
        "id": "FFDPAzjuiV2O"
      },
      "outputs": [],
      "source": []
    },
    {
      "cell_type": "code",
      "execution_count": 11,
      "metadata": {
        "id": "13BnnKGwWLei"
      },
      "outputs": [],
      "source": [
        "from langsmith.schemas import Example, Run\n",
        "\n",
        "def correct_label(root_run: Run, example: Example) -> dict:\n",
        "    score = root_run.outputs.get(\"output\") == example.outputs.get(\"Output\")\n",
        "    return {\"score\": int(score), \"key\": \"correct_label\"}"
      ]
    },
    {
      "cell_type": "code",
      "execution_count": null,
      "metadata": {
        "colab": {
          "base_uri": "https://localhost:8080/",
          "height": 118,
          "referenced_widgets": [
            "4717a9f165c54e758e2f85919a8a4a11",
            "20b834c2d35f41c18ef279143421fddb",
            "7fc3aec5021d4a94ba28977026846714",
            "c33adb60623142378ac29d892eefd161",
            "3403216c359b4a948f0b6bb584b99efc",
            "4bcb8ff09d1849f8848cd086df4da790",
            "1a17303fa5704d0a8845b61feb0d6e91",
            "983f0db3ec40406b939eeea9bd2e45f0",
            "c2268862b8ba41918a19d0b3c06b5e83",
            "73955df6bb414555bdb40cf77b9494a0",
            "6c23a861c1914e2abdcb12e6f9f4fa7c"
          ]
        },
        "id": "FqPonD5eWLgn",
        "outputId": "284446d9-0594-4c75-d4cd-845bd6cf0c8d"
      },
      "outputs": [],
      "source": [
        "from langsmith.evaluation import evaluate\n",
        "\n",
        "dataset_name = \"threekingdoms-qa-words\"\n",
        "\n",
        "results = evaluate(\n",
        "    lambda inputs: label_text(inputs[\"Input\"], \"gpt-4o-mini\"),\n",
        "    data=dataset_name,\n",
        "    evaluators=[correct_label],\n",
        "    experiment_prefix=\"threekingdoms-qa-words\",\n",
        "    description=\"Testing the system.\",  # optional\n",
        ")"
      ]
    },
    {
      "cell_type": "code",
      "execution_count": null,
      "metadata": {
        "id": "wnIw04zIoTml"
      },
      "outputs": [],
      "source": []
    },
    {
      "cell_type": "markdown",
      "metadata": {
        "id": "By-Oe702vgp2"
      },
      "source": [
        "## Evalutaion Functions\n",
        "\n",
        "  - LangChain 에서 제공하는 평가 방법들을 사용해 봅시다.\n",
        "  - 참조: https://docs.smith.langchain.com/reference/sdk_reference/langchain_evaluators\n",
        "\n",
        "  - QA evaluators : Correctness 평가\n",
        "    - qa, context_qa, cot_qa 3가지의 qa 평가 함수가 있습니다.\n",
        "    - 정답과 오답 그 사이에 있는 답변들을 각각의 evaluator 들이 어떻게 매겼는지 살펴봅시다."
      ]
    },
    {
      "cell_type": "code",
      "execution_count": null,
      "metadata": {
        "colab": {
          "base_uri": "https://localhost:8080/"
        },
        "collapsed": true,
        "id": "r9fAKoJqwhte",
        "outputId": "013521e5-a9a0-473d-875f-e9271f8a1566"
      },
      "outputs": [],
      "source": [
        "!pip install langchain langchain-openai langchain-community"
      ]
    },
    {
      "cell_type": "code",
      "execution_count": null,
      "metadata": {
        "colab": {
          "base_uri": "https://localhost:8080/",
          "height": 118,
          "referenced_widgets": [
            "5ba6fdec920b4a3587c123371c1c4bd5",
            "34a142d1bd2941b1b4a4cab7af02ef59",
            "085a339820e745fd85cc05fb75b2e648",
            "144336af2c4947a78a398fbafeca56cc",
            "47dd5eef91f04f76b7993a81991243e7",
            "049b2106346f40cdaf02fefb9069b81b",
            "ecbdea12e09c4715b42ea8fe927f84ad",
            "3e95c846238148f190e7ec1a4cfe6936",
            "40e19ef5390b4e0cb211a8f585226ef8",
            "b01bc3c84d35494ba1948edb50120d01",
            "4ec03473ac704714a46ac2365ac512b3"
          ]
        },
        "id": "g1XCK1c_vnn_",
        "outputId": "37f57058-538d-4038-d2bf-856c9f31bc36"
      },
      "outputs": [],
      "source": [
        "from langsmith.evaluation import LangChainStringEvaluator, evaluate\n",
        "from langchain_openai import ChatOpenAI\n",
        "\n",
        "eval_llm = ChatOpenAI(temperature=0.0, model=\"gpt-4o-mini\")\n",
        "\n",
        "qa_evaluator = LangChainStringEvaluator(\"qa\", config={\"llm\": eval_llm})\n",
        "context_qa_evaluator = LangChainStringEvaluator(\"context_qa\", config={\"llm\": eval_llm})\n",
        "cot_qa_evaluator = LangChainStringEvaluator(\"cot_qa\", config={\"llm\": eval_llm})\n",
        "\n",
        "results = evaluate(\n",
        "    lambda inputs: label_text(inputs[\"Input\"], \"gpt-4o-mini\"),\n",
        "    data=dataset_name,\n",
        "    evaluators=[correct_label, qa_evaluator, context_qa_evaluator, cot_qa_evaluator],\n",
        "    experiment_prefix=\"threekingdoms-qa-words\",\n",
        "    description=\"Testing the system.\",  # optional\n",
        ")"
      ]
    },
    {
      "cell_type": "code",
      "execution_count": null,
      "metadata": {
        "id": "ukWQTVsVvnxL"
      },
      "outputs": [],
      "source": []
    },
    {
      "cell_type": "markdown",
      "metadata": {
        "id": "0xV164DmRBjE"
      },
      "source": [
        "# Sentence Q&A Evaluation\n",
        "\n",
        "  - 단답형이 아닌 주관식 답변에 대해서도 채점을 해봅시다!"
      ]
    },
    {
      "cell_type": "code",
      "execution_count": 18,
      "metadata": {
        "id": "qAbFiWZ3vn3V"
      },
      "outputs": [],
      "source": [
        "csv_file = './qa_dataset_sentence.csv'\n",
        "input_keys = [\"Input\"] # replace with your input column names\n",
        "output_keys = [\"Output\"] # replace with your output column names\n",
        "\n",
        "dataset = client.upload_csv(\n",
        "    csv_file=csv_file,\n",
        "    input_keys=input_keys,\n",
        "    output_keys=output_keys,\n",
        "    name=\"threekingdoms-qa-sentences\",\n",
        "    description=\"\",\n",
        "    data_type=\"kv\"\n",
        ")"
      ]
    },
    {
      "cell_type": "code",
      "execution_count": null,
      "metadata": {
        "colab": {
          "base_uri": "https://localhost:8080/",
          "height": 118,
          "referenced_widgets": [
            "de32feaf6ef14b4c9ebe14409eed2e5c",
            "fdc802f1d6224026b22331ee23ea0064",
            "1d8d7b6da1f141629892844638da4ca1",
            "f1925df9ef704f3bbb1d2d6fae33adbc",
            "672dc4a6d56945f1964e6221a6c5bf2c",
            "79df4fc2ceed4d5b8238ec42b08815ac",
            "c18e6e4d66cc4a3dba4d2a8aeb87dc89",
            "c0b6ffc58278435ab2e046cb3f9d69ca",
            "f51c5e3307e149c4b9af2536b3f1761e",
            "4db0ab84794743dc97178dddc641313f",
            "2e62bbb94e054da294c5492521cad65d"
          ]
        },
        "id": "6ypwfdgDdT90",
        "outputId": "e72b1f0a-8880-4e66-c267-6861225a1cda"
      },
      "outputs": [],
      "source": [
        "@traceable\n",
        "def label_text(text, model=\"gpt-4o-mini\"):\n",
        "    messages = [\n",
        "        {\n",
        "            \"role\": \"system\",\n",
        "            \"content\": \"Please read the user query below and answer the question in 1 sentence.\",\n",
        "        },\n",
        "        {\"role\": \"user\", \"content\": text},\n",
        "    ]\n",
        "    result = openai.chat.completions.create(\n",
        "        messages=messages, model=model, temperature=0\n",
        "    )\n",
        "    return result.choices[0].message.content\n",
        "\n",
        "results = evaluate(\n",
        "    lambda inputs: label_text(inputs[\"Input\"], \"gpt-4o-mini\"),\n",
        "    data=dataset_name,\n",
        "    evaluators=[correct_label, qa_evaluator, context_qa_evaluator, cot_qa_evaluator],\n",
        "    experiment_prefix=\"threekingdoms-qa-sentences\",\n",
        "    description=\"Testing the system.\",  # optional\n",
        ")"
      ]
    },
    {
      "cell_type": "code",
      "execution_count": null,
      "metadata": {
        "id": "0x8BG4jr5th5"
      },
      "outputs": [],
      "source": []
    },
    {
      "cell_type": "markdown",
      "metadata": {
        "id": "iqwelAxK5th5"
      },
      "source": [
        "# vLLM OpenAI Compatible API 로 모델 교체하기\n",
        "\n",
        "  - 오픈 웨이트 모델을 vLLM 으로 서빙한 후, 모델을 교체해서 사용해봅시다.\n",
        "  - 앞서 파인튜닝한 모델을 서빙한 후, 교체해서 채점해 봅시다.\n",
        "\n",
        "  - 참조 - https://jonhpark7966.github.io/vLLM_Course/QuickStartonRunPod/#_1\n"
      ]
    },
    {
      "cell_type": "code",
      "execution_count": null,
      "metadata": {
        "id": "W1PzsC0J5th5"
      },
      "outputs": [],
      "source": [
        "export HF_TOKEN=HF-TOKEN\n",
        "\n",
        "vllm serve meta-llama/Llama-3.1-8B-Instruct"
      ]
    },
    {
      "cell_type": "code",
      "execution_count": null,
      "metadata": {
        "id": "sTlFZ5uh5th5"
      },
      "outputs": [],
      "source": [
        "from langsmith import traceable, wrappers\n",
        "from openai import OpenAI\n",
        "\n",
        "# Define your custom endpoint\n",
        "custom_api_endpoint = \"http://localhost:8000/v1\"  # Replace with your actual endpoint\n",
        "\n",
        "# Initialize OpenAI client with the custom endpoint\n",
        "openai = wrappers.wrap_openai(OpenAI(\n",
        "    api_key=\"API_KEY\",\n",
        "    base_url=custom_api_endpoint))\n",
        "\n",
        "@traceable\n",
        "def label_text(text, model=\"gpt-4o-mini\"):\n",
        "    messages = [\n",
        "        {\n",
        "            \"role\": \"system\",\n",
        "            \"content\": \"Please read the user query below and answer the question in 1 word.\",\n",
        "        },\n",
        "        {\"role\": \"user\", \"content\": text},\n",
        "    ]\n",
        "    result = openai.chat.completions.create(\n",
        "        messages=messages, model=model, temperature=0\n",
        "    )\n",
        "    return result.choices[0].message.content"
      ]
    },
    {
      "cell_type": "code",
      "execution_count": null,
      "metadata": {
        "id": "wVb1us0n51Ru"
      },
      "outputs": [],
      "source": []
    },
    {
      "cell_type": "code",
      "execution_count": null,
      "metadata": {
        "id": "RYX0LxuA5th6",
        "scrolled": true
      },
      "outputs": [],
      "source": [
        "label_text(\"지구를 광범위하게 설명해봐\", model=\"/workspace/Llama-3.1-8B-kowiki-...\")"
      ]
    },
    {
      "cell_type": "code",
      "execution_count": null,
      "metadata": {
        "id": "zmiNAmrN5th6"
      },
      "outputs": [],
      "source": [
        "from langsmith.evaluation import LangChainStringEvaluator, evaluate\n",
        "from langchain_openai import ChatOpenAI\n",
        "\n",
        "eval_llm = ChatOpenAI(temperature=0.0, model=\"gpt-4o-mini\")\n",
        "\n",
        "qa_evaluator = LangChainStringEvaluator(\"qa\", config={\"llm\": eval_llm})\n",
        "context_qa_evaluator = LangChainStringEvaluator(\"context_qa\", config={\"llm\": eval_llm})\n",
        "cot_qa_evaluator = LangChainStringEvaluator(\"cot_qa\", config={\"llm\": eval_llm})\n",
        "\n",
        "results = evaluate(\n",
        "    lambda inputs: label_text(inputs[\"Input\"], \"MODEL_WE_MADE\"),\n",
        "    data=dataset_name,\n",
        "    evaluators=[correct_label, qa_evaluator, context_qa_evaluator, cot_qa_evaluator],\n",
        "    experiment_prefix=\"threekingdoms-qa-words\",\n",
        "    description=\"Testing the system.\",  # optional\n",
        ")"
      ]
    }
  ],
  "metadata": {
    "colab": {
      "provenance": []
    },
    "kernelspec": {
      "display_name": "Python 3 (ipykernel)",
      "language": "python",
      "name": "python3"
    },
    "language_info": {
      "codemirror_mode": {
        "name": "ipython",
        "version": 3
      },
      "file_extension": ".py",
      "mimetype": "text/x-python",
      "name": "python",
      "nbconvert_exporter": "python",
      "pygments_lexer": "ipython3",
      "version": "3.11.9"
    },
    "widgets": {
      "application/vnd.jupyter.widget-state+json": {
        "049b2106346f40cdaf02fefb9069b81b": {
          "model_module": "@jupyter-widgets/base",
          "model_module_version": "1.2.0",
          "model_name": "LayoutModel",
          "state": {
            "_model_module": "@jupyter-widgets/base",
            "_model_module_version": "1.2.0",
            "_model_name": "LayoutModel",
            "_view_count": null,
            "_view_module": "@jupyter-widgets/base",
            "_view_module_version": "1.2.0",
            "_view_name": "LayoutView",
            "align_content": null,
            "align_items": null,
            "align_self": null,
            "border": null,
            "bottom": null,
            "display": null,
            "flex": null,
            "flex_flow": null,
            "grid_area": null,
            "grid_auto_columns": null,
            "grid_auto_flow": null,
            "grid_auto_rows": null,
            "grid_column": null,
            "grid_gap": null,
            "grid_row": null,
            "grid_template_areas": null,
            "grid_template_columns": null,
            "grid_template_rows": null,
            "height": null,
            "justify_content": null,
            "justify_items": null,
            "left": null,
            "margin": null,
            "max_height": null,
            "max_width": null,
            "min_height": null,
            "min_width": null,
            "object_fit": null,
            "object_position": null,
            "order": null,
            "overflow": null,
            "overflow_x": null,
            "overflow_y": null,
            "padding": null,
            "right": null,
            "top": null,
            "visibility": null,
            "width": null
          }
        },
        "085a339820e745fd85cc05fb75b2e648": {
          "model_module": "@jupyter-widgets/controls",
          "model_module_version": "1.5.0",
          "model_name": "FloatProgressModel",
          "state": {
            "_dom_classes": [],
            "_model_module": "@jupyter-widgets/controls",
            "_model_module_version": "1.5.0",
            "_model_name": "FloatProgressModel",
            "_view_count": null,
            "_view_module": "@jupyter-widgets/controls",
            "_view_module_version": "1.5.0",
            "_view_name": "ProgressView",
            "bar_style": "success",
            "description": "",
            "description_tooltip": null,
            "layout": "IPY_MODEL_3e95c846238148f190e7ec1a4cfe6936",
            "max": 1,
            "min": 0,
            "orientation": "horizontal",
            "style": "IPY_MODEL_40e19ef5390b4e0cb211a8f585226ef8",
            "value": 1
          }
        },
        "144336af2c4947a78a398fbafeca56cc": {
          "model_module": "@jupyter-widgets/controls",
          "model_module_version": "1.5.0",
          "model_name": "HTMLModel",
          "state": {
            "_dom_classes": [],
            "_model_module": "@jupyter-widgets/controls",
            "_model_module_version": "1.5.0",
            "_model_name": "HTMLModel",
            "_view_count": null,
            "_view_module": "@jupyter-widgets/controls",
            "_view_module_version": "1.5.0",
            "_view_name": "HTMLView",
            "description": "",
            "description_tooltip": null,
            "layout": "IPY_MODEL_b01bc3c84d35494ba1948edb50120d01",
            "placeholder": "​",
            "style": "IPY_MODEL_4ec03473ac704714a46ac2365ac512b3",
            "value": " 17/? [01:28&lt;00:00,  5.26s/it]"
          }
        },
        "1a17303fa5704d0a8845b61feb0d6e91": {
          "model_module": "@jupyter-widgets/controls",
          "model_module_version": "1.5.0",
          "model_name": "DescriptionStyleModel",
          "state": {
            "_model_module": "@jupyter-widgets/controls",
            "_model_module_version": "1.5.0",
            "_model_name": "DescriptionStyleModel",
            "_view_count": null,
            "_view_module": "@jupyter-widgets/base",
            "_view_module_version": "1.2.0",
            "_view_name": "StyleView",
            "description_width": ""
          }
        },
        "1d8d7b6da1f141629892844638da4ca1": {
          "model_module": "@jupyter-widgets/controls",
          "model_module_version": "1.5.0",
          "model_name": "FloatProgressModel",
          "state": {
            "_dom_classes": [],
            "_model_module": "@jupyter-widgets/controls",
            "_model_module_version": "1.5.0",
            "_model_name": "FloatProgressModel",
            "_view_count": null,
            "_view_module": "@jupyter-widgets/controls",
            "_view_module_version": "1.5.0",
            "_view_name": "ProgressView",
            "bar_style": "success",
            "description": "",
            "description_tooltip": null,
            "layout": "IPY_MODEL_c0b6ffc58278435ab2e046cb3f9d69ca",
            "max": 1,
            "min": 0,
            "orientation": "horizontal",
            "style": "IPY_MODEL_f51c5e3307e149c4b9af2536b3f1761e",
            "value": 1
          }
        },
        "20b834c2d35f41c18ef279143421fddb": {
          "model_module": "@jupyter-widgets/controls",
          "model_module_version": "1.5.0",
          "model_name": "HTMLModel",
          "state": {
            "_dom_classes": [],
            "_model_module": "@jupyter-widgets/controls",
            "_model_module_version": "1.5.0",
            "_model_name": "HTMLModel",
            "_view_count": null,
            "_view_module": "@jupyter-widgets/controls",
            "_view_module_version": "1.5.0",
            "_view_name": "HTMLView",
            "description": "",
            "description_tooltip": null,
            "layout": "IPY_MODEL_4bcb8ff09d1849f8848cd086df4da790",
            "placeholder": "​",
            "style": "IPY_MODEL_1a17303fa5704d0a8845b61feb0d6e91",
            "value": ""
          }
        },
        "2e62bbb94e054da294c5492521cad65d": {
          "model_module": "@jupyter-widgets/controls",
          "model_module_version": "1.5.0",
          "model_name": "DescriptionStyleModel",
          "state": {
            "_model_module": "@jupyter-widgets/controls",
            "_model_module_version": "1.5.0",
            "_model_name": "DescriptionStyleModel",
            "_view_count": null,
            "_view_module": "@jupyter-widgets/base",
            "_view_module_version": "1.2.0",
            "_view_name": "StyleView",
            "description_width": ""
          }
        },
        "3403216c359b4a948f0b6bb584b99efc": {
          "model_module": "@jupyter-widgets/base",
          "model_module_version": "1.2.0",
          "model_name": "LayoutModel",
          "state": {
            "_model_module": "@jupyter-widgets/base",
            "_model_module_version": "1.2.0",
            "_model_name": "LayoutModel",
            "_view_count": null,
            "_view_module": "@jupyter-widgets/base",
            "_view_module_version": "1.2.0",
            "_view_name": "LayoutView",
            "align_content": null,
            "align_items": null,
            "align_self": null,
            "border": null,
            "bottom": null,
            "display": null,
            "flex": null,
            "flex_flow": null,
            "grid_area": null,
            "grid_auto_columns": null,
            "grid_auto_flow": null,
            "grid_auto_rows": null,
            "grid_column": null,
            "grid_gap": null,
            "grid_row": null,
            "grid_template_areas": null,
            "grid_template_columns": null,
            "grid_template_rows": null,
            "height": null,
            "justify_content": null,
            "justify_items": null,
            "left": null,
            "margin": null,
            "max_height": null,
            "max_width": null,
            "min_height": null,
            "min_width": null,
            "object_fit": null,
            "object_position": null,
            "order": null,
            "overflow": null,
            "overflow_x": null,
            "overflow_y": null,
            "padding": null,
            "right": null,
            "top": null,
            "visibility": null,
            "width": null
          }
        },
        "34a142d1bd2941b1b4a4cab7af02ef59": {
          "model_module": "@jupyter-widgets/controls",
          "model_module_version": "1.5.0",
          "model_name": "HTMLModel",
          "state": {
            "_dom_classes": [],
            "_model_module": "@jupyter-widgets/controls",
            "_model_module_version": "1.5.0",
            "_model_name": "HTMLModel",
            "_view_count": null,
            "_view_module": "@jupyter-widgets/controls",
            "_view_module_version": "1.5.0",
            "_view_name": "HTMLView",
            "description": "",
            "description_tooltip": null,
            "layout": "IPY_MODEL_049b2106346f40cdaf02fefb9069b81b",
            "placeholder": "​",
            "style": "IPY_MODEL_ecbdea12e09c4715b42ea8fe927f84ad",
            "value": ""
          }
        },
        "3e95c846238148f190e7ec1a4cfe6936": {
          "model_module": "@jupyter-widgets/base",
          "model_module_version": "1.2.0",
          "model_name": "LayoutModel",
          "state": {
            "_model_module": "@jupyter-widgets/base",
            "_model_module_version": "1.2.0",
            "_model_name": "LayoutModel",
            "_view_count": null,
            "_view_module": "@jupyter-widgets/base",
            "_view_module_version": "1.2.0",
            "_view_name": "LayoutView",
            "align_content": null,
            "align_items": null,
            "align_self": null,
            "border": null,
            "bottom": null,
            "display": null,
            "flex": null,
            "flex_flow": null,
            "grid_area": null,
            "grid_auto_columns": null,
            "grid_auto_flow": null,
            "grid_auto_rows": null,
            "grid_column": null,
            "grid_gap": null,
            "grid_row": null,
            "grid_template_areas": null,
            "grid_template_columns": null,
            "grid_template_rows": null,
            "height": null,
            "justify_content": null,
            "justify_items": null,
            "left": null,
            "margin": null,
            "max_height": null,
            "max_width": null,
            "min_height": null,
            "min_width": null,
            "object_fit": null,
            "object_position": null,
            "order": null,
            "overflow": null,
            "overflow_x": null,
            "overflow_y": null,
            "padding": null,
            "right": null,
            "top": null,
            "visibility": null,
            "width": "20px"
          }
        },
        "40e19ef5390b4e0cb211a8f585226ef8": {
          "model_module": "@jupyter-widgets/controls",
          "model_module_version": "1.5.0",
          "model_name": "ProgressStyleModel",
          "state": {
            "_model_module": "@jupyter-widgets/controls",
            "_model_module_version": "1.5.0",
            "_model_name": "ProgressStyleModel",
            "_view_count": null,
            "_view_module": "@jupyter-widgets/base",
            "_view_module_version": "1.2.0",
            "_view_name": "StyleView",
            "bar_color": null,
            "description_width": ""
          }
        },
        "4717a9f165c54e758e2f85919a8a4a11": {
          "model_module": "@jupyter-widgets/controls",
          "model_module_version": "1.5.0",
          "model_name": "HBoxModel",
          "state": {
            "_dom_classes": [],
            "_model_module": "@jupyter-widgets/controls",
            "_model_module_version": "1.5.0",
            "_model_name": "HBoxModel",
            "_view_count": null,
            "_view_module": "@jupyter-widgets/controls",
            "_view_module_version": "1.5.0",
            "_view_name": "HBoxView",
            "box_style": "",
            "children": [
              "IPY_MODEL_20b834c2d35f41c18ef279143421fddb",
              "IPY_MODEL_7fc3aec5021d4a94ba28977026846714",
              "IPY_MODEL_c33adb60623142378ac29d892eefd161"
            ],
            "layout": "IPY_MODEL_3403216c359b4a948f0b6bb584b99efc"
          }
        },
        "47dd5eef91f04f76b7993a81991243e7": {
          "model_module": "@jupyter-widgets/base",
          "model_module_version": "1.2.0",
          "model_name": "LayoutModel",
          "state": {
            "_model_module": "@jupyter-widgets/base",
            "_model_module_version": "1.2.0",
            "_model_name": "LayoutModel",
            "_view_count": null,
            "_view_module": "@jupyter-widgets/base",
            "_view_module_version": "1.2.0",
            "_view_name": "LayoutView",
            "align_content": null,
            "align_items": null,
            "align_self": null,
            "border": null,
            "bottom": null,
            "display": null,
            "flex": null,
            "flex_flow": null,
            "grid_area": null,
            "grid_auto_columns": null,
            "grid_auto_flow": null,
            "grid_auto_rows": null,
            "grid_column": null,
            "grid_gap": null,
            "grid_row": null,
            "grid_template_areas": null,
            "grid_template_columns": null,
            "grid_template_rows": null,
            "height": null,
            "justify_content": null,
            "justify_items": null,
            "left": null,
            "margin": null,
            "max_height": null,
            "max_width": null,
            "min_height": null,
            "min_width": null,
            "object_fit": null,
            "object_position": null,
            "order": null,
            "overflow": null,
            "overflow_x": null,
            "overflow_y": null,
            "padding": null,
            "right": null,
            "top": null,
            "visibility": null,
            "width": null
          }
        },
        "4bcb8ff09d1849f8848cd086df4da790": {
          "model_module": "@jupyter-widgets/base",
          "model_module_version": "1.2.0",
          "model_name": "LayoutModel",
          "state": {
            "_model_module": "@jupyter-widgets/base",
            "_model_module_version": "1.2.0",
            "_model_name": "LayoutModel",
            "_view_count": null,
            "_view_module": "@jupyter-widgets/base",
            "_view_module_version": "1.2.0",
            "_view_name": "LayoutView",
            "align_content": null,
            "align_items": null,
            "align_self": null,
            "border": null,
            "bottom": null,
            "display": null,
            "flex": null,
            "flex_flow": null,
            "grid_area": null,
            "grid_auto_columns": null,
            "grid_auto_flow": null,
            "grid_auto_rows": null,
            "grid_column": null,
            "grid_gap": null,
            "grid_row": null,
            "grid_template_areas": null,
            "grid_template_columns": null,
            "grid_template_rows": null,
            "height": null,
            "justify_content": null,
            "justify_items": null,
            "left": null,
            "margin": null,
            "max_height": null,
            "max_width": null,
            "min_height": null,
            "min_width": null,
            "object_fit": null,
            "object_position": null,
            "order": null,
            "overflow": null,
            "overflow_x": null,
            "overflow_y": null,
            "padding": null,
            "right": null,
            "top": null,
            "visibility": null,
            "width": null
          }
        },
        "4db0ab84794743dc97178dddc641313f": {
          "model_module": "@jupyter-widgets/base",
          "model_module_version": "1.2.0",
          "model_name": "LayoutModel",
          "state": {
            "_model_module": "@jupyter-widgets/base",
            "_model_module_version": "1.2.0",
            "_model_name": "LayoutModel",
            "_view_count": null,
            "_view_module": "@jupyter-widgets/base",
            "_view_module_version": "1.2.0",
            "_view_name": "LayoutView",
            "align_content": null,
            "align_items": null,
            "align_self": null,
            "border": null,
            "bottom": null,
            "display": null,
            "flex": null,
            "flex_flow": null,
            "grid_area": null,
            "grid_auto_columns": null,
            "grid_auto_flow": null,
            "grid_auto_rows": null,
            "grid_column": null,
            "grid_gap": null,
            "grid_row": null,
            "grid_template_areas": null,
            "grid_template_columns": null,
            "grid_template_rows": null,
            "height": null,
            "justify_content": null,
            "justify_items": null,
            "left": null,
            "margin": null,
            "max_height": null,
            "max_width": null,
            "min_height": null,
            "min_width": null,
            "object_fit": null,
            "object_position": null,
            "order": null,
            "overflow": null,
            "overflow_x": null,
            "overflow_y": null,
            "padding": null,
            "right": null,
            "top": null,
            "visibility": null,
            "width": null
          }
        },
        "4ec03473ac704714a46ac2365ac512b3": {
          "model_module": "@jupyter-widgets/controls",
          "model_module_version": "1.5.0",
          "model_name": "DescriptionStyleModel",
          "state": {
            "_model_module": "@jupyter-widgets/controls",
            "_model_module_version": "1.5.0",
            "_model_name": "DescriptionStyleModel",
            "_view_count": null,
            "_view_module": "@jupyter-widgets/base",
            "_view_module_version": "1.2.0",
            "_view_name": "StyleView",
            "description_width": ""
          }
        },
        "5ba6fdec920b4a3587c123371c1c4bd5": {
          "model_module": "@jupyter-widgets/controls",
          "model_module_version": "1.5.0",
          "model_name": "HBoxModel",
          "state": {
            "_dom_classes": [],
            "_model_module": "@jupyter-widgets/controls",
            "_model_module_version": "1.5.0",
            "_model_name": "HBoxModel",
            "_view_count": null,
            "_view_module": "@jupyter-widgets/controls",
            "_view_module_version": "1.5.0",
            "_view_name": "HBoxView",
            "box_style": "",
            "children": [
              "IPY_MODEL_34a142d1bd2941b1b4a4cab7af02ef59",
              "IPY_MODEL_085a339820e745fd85cc05fb75b2e648",
              "IPY_MODEL_144336af2c4947a78a398fbafeca56cc"
            ],
            "layout": "IPY_MODEL_47dd5eef91f04f76b7993a81991243e7"
          }
        },
        "672dc4a6d56945f1964e6221a6c5bf2c": {
          "model_module": "@jupyter-widgets/base",
          "model_module_version": "1.2.0",
          "model_name": "LayoutModel",
          "state": {
            "_model_module": "@jupyter-widgets/base",
            "_model_module_version": "1.2.0",
            "_model_name": "LayoutModel",
            "_view_count": null,
            "_view_module": "@jupyter-widgets/base",
            "_view_module_version": "1.2.0",
            "_view_name": "LayoutView",
            "align_content": null,
            "align_items": null,
            "align_self": null,
            "border": null,
            "bottom": null,
            "display": null,
            "flex": null,
            "flex_flow": null,
            "grid_area": null,
            "grid_auto_columns": null,
            "grid_auto_flow": null,
            "grid_auto_rows": null,
            "grid_column": null,
            "grid_gap": null,
            "grid_row": null,
            "grid_template_areas": null,
            "grid_template_columns": null,
            "grid_template_rows": null,
            "height": null,
            "justify_content": null,
            "justify_items": null,
            "left": null,
            "margin": null,
            "max_height": null,
            "max_width": null,
            "min_height": null,
            "min_width": null,
            "object_fit": null,
            "object_position": null,
            "order": null,
            "overflow": null,
            "overflow_x": null,
            "overflow_y": null,
            "padding": null,
            "right": null,
            "top": null,
            "visibility": null,
            "width": null
          }
        },
        "6c23a861c1914e2abdcb12e6f9f4fa7c": {
          "model_module": "@jupyter-widgets/controls",
          "model_module_version": "1.5.0",
          "model_name": "DescriptionStyleModel",
          "state": {
            "_model_module": "@jupyter-widgets/controls",
            "_model_module_version": "1.5.0",
            "_model_name": "DescriptionStyleModel",
            "_view_count": null,
            "_view_module": "@jupyter-widgets/base",
            "_view_module_version": "1.2.0",
            "_view_name": "StyleView",
            "description_width": ""
          }
        },
        "73955df6bb414555bdb40cf77b9494a0": {
          "model_module": "@jupyter-widgets/base",
          "model_module_version": "1.2.0",
          "model_name": "LayoutModel",
          "state": {
            "_model_module": "@jupyter-widgets/base",
            "_model_module_version": "1.2.0",
            "_model_name": "LayoutModel",
            "_view_count": null,
            "_view_module": "@jupyter-widgets/base",
            "_view_module_version": "1.2.0",
            "_view_name": "LayoutView",
            "align_content": null,
            "align_items": null,
            "align_self": null,
            "border": null,
            "bottom": null,
            "display": null,
            "flex": null,
            "flex_flow": null,
            "grid_area": null,
            "grid_auto_columns": null,
            "grid_auto_flow": null,
            "grid_auto_rows": null,
            "grid_column": null,
            "grid_gap": null,
            "grid_row": null,
            "grid_template_areas": null,
            "grid_template_columns": null,
            "grid_template_rows": null,
            "height": null,
            "justify_content": null,
            "justify_items": null,
            "left": null,
            "margin": null,
            "max_height": null,
            "max_width": null,
            "min_height": null,
            "min_width": null,
            "object_fit": null,
            "object_position": null,
            "order": null,
            "overflow": null,
            "overflow_x": null,
            "overflow_y": null,
            "padding": null,
            "right": null,
            "top": null,
            "visibility": null,
            "width": null
          }
        },
        "79df4fc2ceed4d5b8238ec42b08815ac": {
          "model_module": "@jupyter-widgets/base",
          "model_module_version": "1.2.0",
          "model_name": "LayoutModel",
          "state": {
            "_model_module": "@jupyter-widgets/base",
            "_model_module_version": "1.2.0",
            "_model_name": "LayoutModel",
            "_view_count": null,
            "_view_module": "@jupyter-widgets/base",
            "_view_module_version": "1.2.0",
            "_view_name": "LayoutView",
            "align_content": null,
            "align_items": null,
            "align_self": null,
            "border": null,
            "bottom": null,
            "display": null,
            "flex": null,
            "flex_flow": null,
            "grid_area": null,
            "grid_auto_columns": null,
            "grid_auto_flow": null,
            "grid_auto_rows": null,
            "grid_column": null,
            "grid_gap": null,
            "grid_row": null,
            "grid_template_areas": null,
            "grid_template_columns": null,
            "grid_template_rows": null,
            "height": null,
            "justify_content": null,
            "justify_items": null,
            "left": null,
            "margin": null,
            "max_height": null,
            "max_width": null,
            "min_height": null,
            "min_width": null,
            "object_fit": null,
            "object_position": null,
            "order": null,
            "overflow": null,
            "overflow_x": null,
            "overflow_y": null,
            "padding": null,
            "right": null,
            "top": null,
            "visibility": null,
            "width": null
          }
        },
        "7fc3aec5021d4a94ba28977026846714": {
          "model_module": "@jupyter-widgets/controls",
          "model_module_version": "1.5.0",
          "model_name": "FloatProgressModel",
          "state": {
            "_dom_classes": [],
            "_model_module": "@jupyter-widgets/controls",
            "_model_module_version": "1.5.0",
            "_model_name": "FloatProgressModel",
            "_view_count": null,
            "_view_module": "@jupyter-widgets/controls",
            "_view_module_version": "1.5.0",
            "_view_name": "ProgressView",
            "bar_style": "success",
            "description": "",
            "description_tooltip": null,
            "layout": "IPY_MODEL_983f0db3ec40406b939eeea9bd2e45f0",
            "max": 1,
            "min": 0,
            "orientation": "horizontal",
            "style": "IPY_MODEL_c2268862b8ba41918a19d0b3c06b5e83",
            "value": 1
          }
        },
        "983f0db3ec40406b939eeea9bd2e45f0": {
          "model_module": "@jupyter-widgets/base",
          "model_module_version": "1.2.0",
          "model_name": "LayoutModel",
          "state": {
            "_model_module": "@jupyter-widgets/base",
            "_model_module_version": "1.2.0",
            "_model_name": "LayoutModel",
            "_view_count": null,
            "_view_module": "@jupyter-widgets/base",
            "_view_module_version": "1.2.0",
            "_view_name": "LayoutView",
            "align_content": null,
            "align_items": null,
            "align_self": null,
            "border": null,
            "bottom": null,
            "display": null,
            "flex": null,
            "flex_flow": null,
            "grid_area": null,
            "grid_auto_columns": null,
            "grid_auto_flow": null,
            "grid_auto_rows": null,
            "grid_column": null,
            "grid_gap": null,
            "grid_row": null,
            "grid_template_areas": null,
            "grid_template_columns": null,
            "grid_template_rows": null,
            "height": null,
            "justify_content": null,
            "justify_items": null,
            "left": null,
            "margin": null,
            "max_height": null,
            "max_width": null,
            "min_height": null,
            "min_width": null,
            "object_fit": null,
            "object_position": null,
            "order": null,
            "overflow": null,
            "overflow_x": null,
            "overflow_y": null,
            "padding": null,
            "right": null,
            "top": null,
            "visibility": null,
            "width": "20px"
          }
        },
        "b01bc3c84d35494ba1948edb50120d01": {
          "model_module": "@jupyter-widgets/base",
          "model_module_version": "1.2.0",
          "model_name": "LayoutModel",
          "state": {
            "_model_module": "@jupyter-widgets/base",
            "_model_module_version": "1.2.0",
            "_model_name": "LayoutModel",
            "_view_count": null,
            "_view_module": "@jupyter-widgets/base",
            "_view_module_version": "1.2.0",
            "_view_name": "LayoutView",
            "align_content": null,
            "align_items": null,
            "align_self": null,
            "border": null,
            "bottom": null,
            "display": null,
            "flex": null,
            "flex_flow": null,
            "grid_area": null,
            "grid_auto_columns": null,
            "grid_auto_flow": null,
            "grid_auto_rows": null,
            "grid_column": null,
            "grid_gap": null,
            "grid_row": null,
            "grid_template_areas": null,
            "grid_template_columns": null,
            "grid_template_rows": null,
            "height": null,
            "justify_content": null,
            "justify_items": null,
            "left": null,
            "margin": null,
            "max_height": null,
            "max_width": null,
            "min_height": null,
            "min_width": null,
            "object_fit": null,
            "object_position": null,
            "order": null,
            "overflow": null,
            "overflow_x": null,
            "overflow_y": null,
            "padding": null,
            "right": null,
            "top": null,
            "visibility": null,
            "width": null
          }
        },
        "c0b6ffc58278435ab2e046cb3f9d69ca": {
          "model_module": "@jupyter-widgets/base",
          "model_module_version": "1.2.0",
          "model_name": "LayoutModel",
          "state": {
            "_model_module": "@jupyter-widgets/base",
            "_model_module_version": "1.2.0",
            "_model_name": "LayoutModel",
            "_view_count": null,
            "_view_module": "@jupyter-widgets/base",
            "_view_module_version": "1.2.0",
            "_view_name": "LayoutView",
            "align_content": null,
            "align_items": null,
            "align_self": null,
            "border": null,
            "bottom": null,
            "display": null,
            "flex": null,
            "flex_flow": null,
            "grid_area": null,
            "grid_auto_columns": null,
            "grid_auto_flow": null,
            "grid_auto_rows": null,
            "grid_column": null,
            "grid_gap": null,
            "grid_row": null,
            "grid_template_areas": null,
            "grid_template_columns": null,
            "grid_template_rows": null,
            "height": null,
            "justify_content": null,
            "justify_items": null,
            "left": null,
            "margin": null,
            "max_height": null,
            "max_width": null,
            "min_height": null,
            "min_width": null,
            "object_fit": null,
            "object_position": null,
            "order": null,
            "overflow": null,
            "overflow_x": null,
            "overflow_y": null,
            "padding": null,
            "right": null,
            "top": null,
            "visibility": null,
            "width": "20px"
          }
        },
        "c18e6e4d66cc4a3dba4d2a8aeb87dc89": {
          "model_module": "@jupyter-widgets/controls",
          "model_module_version": "1.5.0",
          "model_name": "DescriptionStyleModel",
          "state": {
            "_model_module": "@jupyter-widgets/controls",
            "_model_module_version": "1.5.0",
            "_model_name": "DescriptionStyleModel",
            "_view_count": null,
            "_view_module": "@jupyter-widgets/base",
            "_view_module_version": "1.2.0",
            "_view_name": "StyleView",
            "description_width": ""
          }
        },
        "c2268862b8ba41918a19d0b3c06b5e83": {
          "model_module": "@jupyter-widgets/controls",
          "model_module_version": "1.5.0",
          "model_name": "ProgressStyleModel",
          "state": {
            "_model_module": "@jupyter-widgets/controls",
            "_model_module_version": "1.5.0",
            "_model_name": "ProgressStyleModel",
            "_view_count": null,
            "_view_module": "@jupyter-widgets/base",
            "_view_module_version": "1.2.0",
            "_view_name": "StyleView",
            "bar_color": null,
            "description_width": ""
          }
        },
        "c33adb60623142378ac29d892eefd161": {
          "model_module": "@jupyter-widgets/controls",
          "model_module_version": "1.5.0",
          "model_name": "HTMLModel",
          "state": {
            "_dom_classes": [],
            "_model_module": "@jupyter-widgets/controls",
            "_model_module_version": "1.5.0",
            "_model_name": "HTMLModel",
            "_view_count": null,
            "_view_module": "@jupyter-widgets/controls",
            "_view_module_version": "1.5.0",
            "_view_name": "HTMLView",
            "description": "",
            "description_tooltip": null,
            "layout": "IPY_MODEL_73955df6bb414555bdb40cf77b9494a0",
            "placeholder": "​",
            "style": "IPY_MODEL_6c23a861c1914e2abdcb12e6f9f4fa7c",
            "value": " 17/? [00:10&lt;00:00,  1.89it/s]"
          }
        },
        "de32feaf6ef14b4c9ebe14409eed2e5c": {
          "model_module": "@jupyter-widgets/controls",
          "model_module_version": "1.5.0",
          "model_name": "HBoxModel",
          "state": {
            "_dom_classes": [],
            "_model_module": "@jupyter-widgets/controls",
            "_model_module_version": "1.5.0",
            "_model_name": "HBoxModel",
            "_view_count": null,
            "_view_module": "@jupyter-widgets/controls",
            "_view_module_version": "1.5.0",
            "_view_name": "HBoxView",
            "box_style": "",
            "children": [
              "IPY_MODEL_fdc802f1d6224026b22331ee23ea0064",
              "IPY_MODEL_1d8d7b6da1f141629892844638da4ca1",
              "IPY_MODEL_f1925df9ef704f3bbb1d2d6fae33adbc"
            ],
            "layout": "IPY_MODEL_672dc4a6d56945f1964e6221a6c5bf2c"
          }
        },
        "ecbdea12e09c4715b42ea8fe927f84ad": {
          "model_module": "@jupyter-widgets/controls",
          "model_module_version": "1.5.0",
          "model_name": "DescriptionStyleModel",
          "state": {
            "_model_module": "@jupyter-widgets/controls",
            "_model_module_version": "1.5.0",
            "_model_name": "DescriptionStyleModel",
            "_view_count": null,
            "_view_module": "@jupyter-widgets/base",
            "_view_module_version": "1.2.0",
            "_view_name": "StyleView",
            "description_width": ""
          }
        },
        "f1925df9ef704f3bbb1d2d6fae33adbc": {
          "model_module": "@jupyter-widgets/controls",
          "model_module_version": "1.5.0",
          "model_name": "HTMLModel",
          "state": {
            "_dom_classes": [],
            "_model_module": "@jupyter-widgets/controls",
            "_model_module_version": "1.5.0",
            "_model_name": "HTMLModel",
            "_view_count": null,
            "_view_module": "@jupyter-widgets/controls",
            "_view_module_version": "1.5.0",
            "_view_name": "HTMLView",
            "description": "",
            "description_tooltip": null,
            "layout": "IPY_MODEL_4db0ab84794743dc97178dddc641313f",
            "placeholder": "​",
            "style": "IPY_MODEL_2e62bbb94e054da294c5492521cad65d",
            "value": " 17/? [01:49&lt;00:00,  6.44s/it]"
          }
        },
        "f51c5e3307e149c4b9af2536b3f1761e": {
          "model_module": "@jupyter-widgets/controls",
          "model_module_version": "1.5.0",
          "model_name": "ProgressStyleModel",
          "state": {
            "_model_module": "@jupyter-widgets/controls",
            "_model_module_version": "1.5.0",
            "_model_name": "ProgressStyleModel",
            "_view_count": null,
            "_view_module": "@jupyter-widgets/base",
            "_view_module_version": "1.2.0",
            "_view_name": "StyleView",
            "bar_color": null,
            "description_width": ""
          }
        },
        "fdc802f1d6224026b22331ee23ea0064": {
          "model_module": "@jupyter-widgets/controls",
          "model_module_version": "1.5.0",
          "model_name": "HTMLModel",
          "state": {
            "_dom_classes": [],
            "_model_module": "@jupyter-widgets/controls",
            "_model_module_version": "1.5.0",
            "_model_name": "HTMLModel",
            "_view_count": null,
            "_view_module": "@jupyter-widgets/controls",
            "_view_module_version": "1.5.0",
            "_view_name": "HTMLView",
            "description": "",
            "description_tooltip": null,
            "layout": "IPY_MODEL_79df4fc2ceed4d5b8238ec42b08815ac",
            "placeholder": "​",
            "style": "IPY_MODEL_c18e6e4d66cc4a3dba4d2a8aeb87dc89",
            "value": ""
          }
        }
      }
    }
  },
  "nbformat": 4,
  "nbformat_minor": 0
}
