{
  "cells": [
    {
      "cell_type": "markdown",
      "metadata": {
        "id": "utEboyYtDGkg"
      },
      "source": [
        "# 오픈 모델을 이용한 Fine Tuning & LoRA\n",
        "\n",
        "허깅페이스의 모델을 다운로드하고,   \n",
        "데이터를 활용하여 LoRA 파인 튜닝을 수행합니다.   \n",
        "파인 튜닝의 목적은 **'건방진 QA 봇 만들기'** 입니다."
      ]
    },
    {
      "cell_type": "markdown",
      "metadata": {
        "id": "6DRUQqC_DGkh"
      },
      "source": [
        "## 실습 환경 세팅하기"
      ]
    },
    {
      "cell_type": "code",
      "execution_count": null,
      "metadata": {
        "colab": {
          "base_uri": "https://localhost:8080/"
        },
        "id": "CHX-RCPdkXgP",
        "outputId": "d40ac745-c9a9-4d53-fe75-bc90b34f7275"
      },
      "outputs": [],
      "source": [
        "!nvidia-smi"
      ]
    },
    {
      "cell_type": "code",
      "execution_count": null,
      "metadata": {
        "colab": {
          "base_uri": "https://localhost:8080/"
        },
        "collapsed": true,
        "id": "0KL0lKD0rM-1",
        "outputId": "bd4dd255-9bc0-441b-b9e0-3c4901e68e44"
      },
      "outputs": [],
      "source": [
        "!pip install langchain langchain-huggingface transformers bitsandbytes pandas peft accelerate datasets huggingface_hub trl --upgrade"
      ]
    },
    {
      "cell_type": "markdown",
      "metadata": {
        "id": "28IjtEhiOi0a"
      },
      "source": [
        "## READ 토큰 불러오기\n",
        "\n",
        "https://huggingface.co/settings/tokens    \n",
        "위 링크에서 READ 권한 토큰을 생성합니다."
      ]
    },
    {
      "cell_type": "code",
      "execution_count": 3,
      "metadata": {
        "id": "3tsVwizRu1kd"
      },
      "outputs": [],
      "source": [
        "from huggingface_hub import login\n",
        "\n",
        "login(token='')\n",
        "# Read 권한 토큰을 입력하세요!"
      ]
    },
    {
      "cell_type": "markdown",
      "metadata": {
        "id": "jPDIKV6aBCCa"
      },
      "source": [
        "## 모델 찾아서 저장하고 불러오기"
      ]
    },
    {
      "cell_type": "code",
      "execution_count": 4,
      "metadata": {
        "id": "E0Nl5mWL0k2T"
      },
      "outputs": [],
      "source": [
        "import torch\n",
        "from transformers import AutoModelForCausalLM,AutoTokenizer,BitsAndBytesConfig\n",
        "import transformers\n",
        "\n",
        "model_id='qwen/qwen2.5-3b-instruct' # 모델의 주소\n",
        "# huggingface.co/qwen/qwen2.5-3b-instruct\n",
        "\n",
        "# 양자화 Configuration 설정 - BitsAndBytes\n",
        "bnb_config = BitsAndBytesConfig(\n",
        "    load_in_4bit=True,\n",
        "    bnb_4bit_use_double_quant=True,\n",
        "    bnb_4bit_quant_type=\"nf4\",\n",
        "    bnb_4bit_compute_dtype=torch.bfloat16\n",
        ")\n"
      ]
    },
    {
      "cell_type": "markdown",
      "metadata": {
        "id": "M1Ctc9MfOi0a"
      },
      "source": [
        "모델과 토크나이저를 불러옵니다.    "
      ]
    },
    {
      "cell_type": "code",
      "execution_count": null,
      "metadata": {
        "colab": {
          "base_uri": "https://localhost:8080/",
          "height": 191,
          "referenced_widgets": [
            "2b28cac4e45647328ebdfb101051e2d6",
            "e81754db1825440ba25b27bdc0be00c9",
            "2fca9995610b4275910f367bbeee07aa",
            "2cf367e06d904823b3ea93896eede52f",
            "cf5df788bfa34e119c9316ea556722e4",
            "4d65a19476ff484489d3553d3dc8f542",
            "b0789a2bbaa8446796288c9807dce98d",
            "c34c67261a7e4e2fa87419f3da4ebb74",
            "d2bfe6cf25d74c3780a19da615b475b4",
            "fdc3a1d2fdc942618ef8b3c3503dcfed",
            "24ca0641c09f41369cb914fb6368e177"
          ]
        },
        "id": "SHPq6J1dWe4v",
        "outputId": "58a79032-7ce0-4e65-89bf-618c02570fef",
        "scrolled": true
      },
      "outputs": [],
      "source": [
        "tokenizer = AutoTokenizer.from_pretrained(\n",
        "    model_id,\n",
        ")\n",
        "model = AutoModelForCausalLM.from_pretrained(model_id,\n",
        "                                             torch_dtype='auto',\n",
        "                                             #quantization_config=bnb_config,\n",
        "                                             device_map={\"\":0})\n",
        "\n"
      ]
    },
    {
      "cell_type": "code",
      "execution_count": null,
      "metadata": {
        "colab": {
          "base_uri": "https://localhost:8080/"
        },
        "id": "CBdKC1z8PWZc",
        "outputId": "9ad61021-c932-4bcf-d166-c4ba359f8803"
      },
      "outputs": [],
      "source": [
        "from transformers import pipeline\n",
        "\n",
        "gen_config = dict(\n",
        "    do_sample=True,\n",
        "    max_new_tokens=512,\n",
        "    repetition_penalty = 1.1,\n",
        "    temperature = 0.7,\n",
        "    top_p = 0.8,\n",
        "    top_k = 20\n",
        ")\n",
        "\n",
        "pipe = pipeline(\"text-generation\", model=model, tokenizer=tokenizer, return_full_text=True,\n",
        "                **gen_config)"
      ]
    },
    {
      "cell_type": "code",
      "execution_count": null,
      "metadata": {
        "colab": {
          "base_uri": "https://localhost:8080/"
        },
        "id": "jf_e49w6lckO",
        "outputId": "cdea9d06-5fd0-45d0-a124-0fd0041e3b6e"
      },
      "outputs": [],
      "source": [
        "prompt = \"안녕 너는 누구니?\"\n",
        "output = pipe(prompt)\n",
        "\n",
        "# 결과 출력\n",
        "print(output[0]['generated_text'])"
      ]
    },
    {
      "cell_type": "markdown",
      "metadata": {
        "id": "7qR82XATmRcl"
      },
      "source": [
        "# 연습 문제\n",
        "\n",
        "- (아마도) 결과가 무언가 이상할 텐데요... 왜 그럴까요? 어떻게 해야할까요?"
      ]
    },
    {
      "cell_type": "code",
      "execution_count": null,
      "metadata": {
        "colab": {
          "base_uri": "https://localhost:8080/"
        },
        "id": "-rmsauZ1mkl2",
        "outputId": "6f1fab46-0f16-4eec-9c7b-3f0a52795e55"
      },
      "outputs": [],
      "source": [
        "# 대화 메시지 리스트 정의\n",
        "messages = [\n",
        "    {\"role\": \"system\", \"content\": \"You are a helpful, honest assistant.\"},\n",
        "    {\"role\": \"user\", \"content\": \"안녕 너는 누구니?\"}\n",
        "]\n",
        "\n",
        "# Chat template을 사용해 prompt 만들기\n",
        "prompt = tokenizer.apply_chat_template(messages, tokenize=False, add_generation_prompt=True)\n",
        "\n",
        "# 텍스트 생성\n",
        "output = pipe(prompt)\n",
        "\n",
        "# 출력\n",
        "print(output[0]['generated_text'])"
      ]
    },
    {
      "cell_type": "markdown",
      "metadata": {
        "id": "7Lnp8rsQG6Mc"
      },
      "source": [
        "# 파인 튜닝 데이터셋 준비하기\n",
        "\n",
        "\n",
        "> 목표 : 건방진 말투의 모델을 만들기\n",
        "\n",
        "\n",
        "  - corpus 를 만들고, corpus 를 기반으로 chat 형식의 데이터를 생성합니다.\n",
        "  - Style Tuning 을 위한 건방진 말투의 chat 을 만들어 봅시다!\n",
        "\n",
        "\n",
        "\n"
      ]
    },
    {
      "cell_type": "markdown",
      "metadata": {
        "id": "IsGCMcESuvUK"
      },
      "source": [
        "## OpenAI & LangChain 을 이용한 데이터 생성 예시\n",
        "\n",
        "  - Context 를 기반으로 원하는 형식의 데이터를 생성해야합니다.\n",
        "  - Few-shot Prompting 으로 생성 하겠습니다. (\"그것도 몰라?\")\n",
        "  - 아무 모델에도 생성이 가능하도록 LangChain 프레임 워크를 사용해보겠습니다.\n",
        "\n"
      ]
    },
    {
      "cell_type": "code",
      "execution_count": 9,
      "metadata": {
        "id": "EcNA1dxguva4"
      },
      "outputs": [],
      "source": [
        "# 기본 라이브러리 설치 (뒤에 -q 붙이면 출력 없이(quiet) 실행)\n",
        "!pip install jsonlines langchain langchain-community langchain-openai pandas wikipedia -q"
      ]
    },
    {
      "cell_type": "code",
      "execution_count": 10,
      "metadata": {
        "id": "f1VW348Huvc8"
      },
      "outputs": [],
      "source": [
        "from langchain.prompts import PromptTemplate\n",
        "from langchain_openai import ChatOpenAI\n",
        "from langchain.prompts import ChatPromptTemplate\n",
        "from langchain.prompts import FewShotPromptTemplate\n",
        "from langchain.schema.output_parser import StrOutputParser\n",
        "\n",
        "import os\n",
        "import json\n",
        "import pandas as pd\n",
        "\n",
        "os.environ['OPENAI_API_KEY']=''"
      ]
    },
    {
      "cell_type": "code",
      "execution_count": 11,
      "metadata": {
        "id": "MoJki-wtuve5"
      },
      "outputs": [],
      "source": [
        "system_prompt = '''아래에 텍스트가 주어집니다. 텍스트의 내용을 참고하여,\n",
        "질문과 답변의 형식 데이터를 3개 생성하세요.\n",
        "출력 규칙은 다음과 같습니다.\n",
        "\n",
        "Question: 텍스트에서 주요 사항에 대한 질문을 작성하세요. 너무 쉽거나 지엽적인 질문은 만들지 마세요. 항상 의문문으로 만드세요.\n",
        "Answer: 답변은 \"그것도 몰라?\" 로 항상 시작해야 하며, 답변을 하기 전\n",
        "답변과 관련 있는 텍스트의 내용을 그대로 인용하여\n",
        "\"[근거]를 보면 알 수 있잖아\"와 같은 형태로 출력하고,\n",
        "그 이후 답변을 작성하세요.\n",
        "근거를 제외한 답변은 모두 건방진 반말로 쓰세요.\n",
        "---\n",
        "예시:\n",
        "Question: 진화가 일어나는 주요 작동 기제는 무엇인가요?\n",
        "Answer: 그것도 몰라? \"진화가 일어나는 주요 작동 기제는,\n",
        "생물 집단과 환경의 상호 관계에 의해 유전형질이 선택되는 자연선택과,\n",
        "집단 안에서 이루어지는 유전자 부동이다.\" 근거를 보면 알 수 있잖아.\n",
        "자연선택이랑 유전자 부동이 진화의 핵심 메커니즘이야.\n",
        "'''\n",
        "\n",
        "prompt = ChatPromptTemplate.from_messages(\n",
        "    [\n",
        "        ('system', system_prompt),\n",
        "        ('user', '{context}')\n",
        "    ]\n",
        ")\n",
        "\n",
        "llm = ChatOpenAI(temperature=0.5, model='gpt-4o-mini', max_tokens=2048)\n",
        "\n",
        "chain = prompt | llm | StrOutputParser()\n",
        "\n",
        "context = '''야구의 명칭의 유래는 1871년 미국에서 일본으로 방문하여 일본 제일고등중학교[6]의 외국인 교사로 활동하는 호레이스 윌슨이 'baseball'이라는 운동 종목을 학생들에게 가르쳤고, 1894년 제일고등중학교에서 재학 중이던 주만 가나에가 'baseball'을 일본어 '야구'(일본어: 野球, やきゅう 야큐[*])로 번역하였고 이 말이 한반도로 들어와 사용되고 있는 것이다. 이에 앞서 4년 전인 1890년 일본의 문학가 마사오카 시키가 '배터(batter)', '러너(runner)', '베이스 온 볼스(base on balls)', '스트레이트(straight)', '플라이 볼(fly ball)', '쇼트스톱(shortstop)' 등의 미국식 야구 용어를 '타자', '주자', '사구 (四球, 대한민국에선 사구 대신 볼넷으로 사용)', '직구'(대한민국에서는 포심 패스트볼, 속구, 컷 패스트볼로 또 다르게 부름), '플라이'(대한민국에서는 뜬공으로도 부름), '단차'(短遮, 이후에는 주만 가나에의 교육에 따라 유격수로 번역함)로 번역하였다.[7] 때때로 야구를 비슷한 경기인 소프트볼(softball)에 대비하여 하드볼(hardball)로 부르기도 한다.\n",
        "야구의 기원은 확실하게 짚어내기가 힘들다. 1344년에 출간된 프랑스의 한 책에 성직자들이 야구와 흡사한 라 술(La soule)이라는 게임을 즐기는 모습을 담은 삽화가 실려있다.[8] 원래 야구는 미국의 애브너 더블데이라는 군인 출신의 인물이 1839년에 쿠퍼스타운에서 창안했다고 알려졌다. 하지만 그가 직접 야구를 창안했다는 구체적인 증거가 없으며, 광산 기술자 출신의 애브너 그레이브스의 증언이 있었으나 별로 신뢰하기 어렵기 때문에 야구는 유럽에서 미국으로 전해진 것으로 추측된다.\n",
        "방망이와 공을 이용해 하는 경기는 영국에서 여러 가지 종류로 발전하는데, 영국 동남부에서는 크리켓으로, 남서부에서는 원홀 캣(또는 원 오캣)의 이름으로 발전했으며, 야구와 흡사한 경기인 라운더스도 있었다. 이런 종류의 경기들은 아메리카 대륙으로 옮겨와 두가지 형태로 진화했는데, 뉴욕 주변에서 행해진 타운볼은 각각 9명의 선수로 이루어진 두 팀이 하는 경기로 정비되었다.'''"
      ]
    },
    {
      "cell_type": "code",
      "execution_count": null,
      "metadata": {
        "colab": {
          "base_uri": "https://localhost:8080/"
        },
        "id": "J7hkNmbLvF_w",
        "outputId": "befc763a-14b9-4b34-f754-942a772fbd0f"
      },
      "outputs": [],
      "source": [
        "example = chain.invoke({'context':context})\n",
        "print(example)"
      ]
    },
    {
      "cell_type": "code",
      "execution_count": null,
      "metadata": {
        "colab": {
          "base_uri": "https://localhost:8080/"
        },
        "id": "BKcGvttnvGB3",
        "outputId": "5c5a53da-469b-4a2e-ada9-cbb3ca8a00a0"
      },
      "outputs": [],
      "source": [
        "example_list = example.split('\\n\\n')\n",
        "example_list"
      ]
    },
    {
      "cell_type": "code",
      "execution_count": null,
      "metadata": {
        "colab": {
          "base_uri": "https://localhost:8080/"
        },
        "id": "HOAlSwAavGD7",
        "outputId": "49e87618-2f9f-40b2-972a-00335946f80e"
      },
      "outputs": [],
      "source": [
        "example_list[0].split('\\n')"
      ]
    },
    {
      "cell_type": "code",
      "execution_count": null,
      "metadata": {
        "colab": {
          "base_uri": "https://localhost:8080/"
        },
        "id": "3Y2Rt5nNvGFj",
        "outputId": "f975df2c-d588-465b-f173-7af26c43e4da"
      },
      "outputs": [],
      "source": [
        "# context, question, answer를 하나의 데이터로 만들어 저장\n",
        "data = []\n",
        "for ex in example_list:\n",
        "    question, answer = ex.split(\"\\n\")\n",
        "    data.append({\n",
        "        'context':context,\n",
        "        'question':question,\n",
        "        'answer':answer\n",
        "    })\n",
        "data"
      ]
    },
    {
      "cell_type": "markdown",
      "metadata": {
        "id": "Xy8urXFmvo5H"
      },
      "source": [
        "## Corpus 만들기 - 도메인 지정 & 지식 범위 설정\n",
        "\n",
        "  - 위와 같이 건방진 말투의 대화 데이터를 생성하고자 합니다.\n",
        "  - 스타일과 무관하게 다양한 분야의 데이터가 있어야 좋을 것 같습니다.\n",
        "  - Context 의 재료가 될 Corpus 를 생성해보습니다."
      ]
    },
    {
      "cell_type": "code",
      "execution_count": null,
      "metadata": {
        "colab": {
          "base_uri": "https://localhost:8080/"
        },
        "id": "ozRcnZu9wRVB",
        "outputId": "30de7c33-760a-43dd-d865-8b0d1f6acc3e"
      },
      "outputs": [],
      "source": [
        "search_prompt = '''\n",
        "당신은 다양한 분야의 지식을 갖춘 박학다식한 인물입니다.\n",
        "다가오는 퀴즈 대회를 위해, 깊이 있고 흥미로운 문제를 출제하려고 합니다.\n",
        "위키피디아를 참고하여 다음 조건을 충족하는 한국어 단어 30개를 나열해 주세요:\n",
        "\n",
        "역사적 인물: 한국 역사에서 중요한 역할을 한 인물의 이름.\n",
        "문화유산: 유네스코 세계문화유산에 등재된 한국의 유적지 또는 문화유산.\n",
        "과학기술: 과학기술 분야의 중요한 용어.\n",
        "문학작품: 한국 문학에서 널리 알려진 소설이나 시의 제목.\n",
        "각 단어를 ,로 구분하여 나열해 주세요. 예시: 단어1, 단어2, 단어3, ... 단어10\n",
        "단어 이외의 다른 내용은 출력하지 마세요.\n",
        "'''\n",
        "\n",
        "people_list = llm.invoke(search_prompt).content.split(', ')\n",
        "people_list"
      ]
    },
    {
      "cell_type": "code",
      "execution_count": null,
      "metadata": {
        "colab": {
          "base_uri": "https://localhost:8080/"
        },
        "id": "7EIa2spbwRXH",
        "outputId": "d5c34d28-dad4-40ce-fb0f-76baa37c9aec"
      },
      "outputs": [],
      "source": [
        "from langchain_community.document_loaders import WikipediaLoader\n",
        "loader = WikipediaLoader(query='토지', lang='ko', load_max_docs=2, doc_content_chars_max=5000)\n",
        "docs = loader.load()\n",
        "docs"
      ]
    },
    {
      "cell_type": "code",
      "execution_count": null,
      "metadata": {
        "colab": {
          "base_uri": "https://localhost:8080/"
        },
        "id": "t9sGaqJrwRZa",
        "outputId": "0e89c31c-3098-461f-8080-3b7f7c670083"
      },
      "outputs": [],
      "source": [
        "from langchain_community.document_loaders import WikipediaLoader\n",
        "from langchain_text_splitters import RecursiveCharacterTextSplitter\n",
        "from langchain import hub\n",
        "import jsonlines\n",
        "def save_docs_to_jsonl(documents, file_path):\n",
        "    with jsonlines.open(file_path, mode=\"w\") as writer:\n",
        "        for doc in documents:\n",
        "            writer.write(doc.dict())\n",
        "\n",
        "text_splitter = RecursiveCharacterTextSplitter(chunk_size=300, chunk_overlap=30)\n",
        "corpus = []\n",
        "\n",
        "raw_corpus = []\n",
        "\n",
        "for person in people_list:\n",
        "    loader = WikipediaLoader(query=person, lang='ko', load_max_docs=1, doc_content_chars_max=3000)\n",
        "    docs = loader.load()\n",
        "    raw_corpus.extend(docs)\n",
        "    chunks = text_splitter.split_documents(docs)\n",
        "    corpus += [\"주제: \" + chunk.metadata['title']+ '\\n'+ chunk.page_content for chunk in chunks if len(chunk.page_content) > 100]\n",
        "\n",
        "save_docs_to_jsonl(raw_corpus, \"raw_corpus.jsonl\")\n",
        "corpus"
      ]
    },
    {
      "cell_type": "code",
      "execution_count": null,
      "metadata": {
        "colab": {
          "base_uri": "https://localhost:8080/"
        },
        "id": "pAJfjfSiwRbg",
        "outputId": "b06cdd0f-2723-49e3-cde0-69b6d715e241"
      },
      "outputs": [],
      "source": [
        "corpus = [{'context':c} for c in corpus]\n",
        "corpus"
      ]
    },
    {
      "cell_type": "markdown",
      "metadata": {
        "id": "W6muDb8Kxcdm"
      },
      "source": [
        "## Corpus 를 기반으로 데이터 만들기\n",
        "\n",
        "  - 위의 예시 chain 을 corpus에 기반해 확장합니다.\n"
      ]
    },
    {
      "cell_type": "code",
      "execution_count": 20,
      "metadata": {
        "id": "CPQjjBpLwaN3"
      },
      "outputs": [],
      "source": [
        "def parse_qa(input):\n",
        "    context = input['context']\n",
        "    qa = input['qa']\n",
        "    question = qa.split('Question: ')[1].split('\\nAnswer: ')[0]\n",
        "    answer = qa.split('Answer: ')[1]\n",
        "    return {'context':context, 'question':question, 'answer':answer}"
      ]
    },
    {
      "cell_type": "code",
      "execution_count": 21,
      "metadata": {
        "id": "8MBZ7UOXwaP9"
      },
      "outputs": [],
      "source": [
        "from langchain_core.runnables import RunnablePassthrough\n",
        "\n",
        "system_prompt = '''아래에 텍스트가 주어집니다. 텍스트의 내용을 참고하여, 질문과 답변의 형식 데이터를 1개 생성하세요.\n",
        "출력 규칙은 다음과 같습니다.\n",
        "\n",
        "Question: 텍스트에서 주요 사항에 대한 질문을 작성하세요. 너무 쉽거나 지엽적인 질문은 만들지 마세요. 항상 의문문으로 만드세요.\n",
        "Answer: 답변은 \"그것도 몰라?\" 로 항상 시작해야 하며, 답변을 하기 전\n",
        "답변과 관련 있는 텍스트의 내용을 그대로 인용하여\n",
        "\"[근거]를 보면 알 수 있잖아\"와 같은 형태로 출력하고,\n",
        "그 이후 답변을 작성하세요.\n",
        "근거를 제외한 답변은 모두 건방진 반말로 쓰세요.\n",
        "---\n",
        "예시:\n",
        "Question: 진화가 일어나는 주요 작동 기제는 무엇인가요?\n",
        "Answer: 그것도 몰라? \"진화가 일어나는 주요 작동 기제는,\n",
        "생물 집단과 환경의 상호 관계에 의해 유전형질이 선택되는 자연선택과,\n",
        "집단 안에서 이루어지는 유전자 부동이다.\" 근거를 보면 알 수 있잖아.\n",
        "자연선택이랑 유전자 부동이 진화의 핵심 메커니즘이야.\n",
        "'''\n",
        "\n",
        "prompt = ChatPromptTemplate.from_messages(\n",
        "    [\n",
        "        ('system', system_prompt),\n",
        "        ('user', '{context}')\n",
        "    ]\n",
        ")\n",
        "\n",
        "chain = RunnablePassthrough.assign(qa = prompt | llm | StrOutputParser()) | parse_qa"
      ]
    },
    {
      "cell_type": "code",
      "execution_count": null,
      "metadata": {
        "colab": {
          "base_uri": "https://localhost:8080/"
        },
        "collapsed": true,
        "id": "_HC2cUevwaSE",
        "outputId": "49dd18c5-5abd-4fc5-e0bb-b664cd8ec126"
      },
      "outputs": [],
      "source": [
        "data = chain.batch(corpus)\n",
        "data"
      ]
    },
    {
      "cell_type": "code",
      "execution_count": null,
      "metadata": {
        "colab": {
          "base_uri": "https://localhost:8080/",
          "height": 510
        },
        "id": "nSoDAYm9waT_",
        "outputId": "5e398db6-4ce2-42b1-a5de-a39166eba679"
      },
      "outputs": [],
      "source": [
        "import pandas as pd\n",
        "\n",
        "data = pd.DataFrame(data)\n",
        "data"
      ]
    },
    {
      "cell_type": "code",
      "execution_count": 24,
      "metadata": {
        "id": "pyxNT_t8wReg"
      },
      "outputs": [],
      "source": [
        "data.to_csv('RAG_Data_full.csv', index=False, encoding='utf-8')"
      ]
    },
    {
      "cell_type": "markdown",
      "metadata": {
        "id": "DOctlaWAxECQ"
      },
      "source": [
        "## 데이터 다양성 만들기\n",
        "\n",
        "  - 모르는 지식에 대해 사용자가 물어본다면 어떻게 대답해야할까요?\n",
        "  - (그것도 몰라?) 라고 대답하면 안되겠죠...\n",
        "  - 반대의 경우도 대응할 수 있도록 데이터를 생성하겠습니다.\n"
      ]
    },
    {
      "cell_type": "code",
      "execution_count": 25,
      "metadata": {
        "id": "-WTz2Yy8xAUb"
      },
      "outputs": [],
      "source": [
        "system_prompt = '''아래에 텍스트가 주어집니다. 텍스트의 내용을 참고하여, 질문과 답변의 형식 데이터를 1개 생성하세요.\n",
        "출력 규칙은 다음과 같습니다.\n",
        "\n",
        "Question: 텍스트와 관련은 있지만, 답변할 수는 없는 질문을 작성하세요. 항상 의문문으로 만드세요.\n",
        "Answer: 내가 그딴 걸 어떻게 알아? 라고만 답변하세요.\n",
        "---\n",
        "예시:\n",
        "Question: 공룡은 어떻게 멸종했나요?\n",
        "Answer: 내가 그딴 걸 어떻게 알아?\n",
        "'''\n",
        "\n",
        "negative_prompt = ChatPromptTemplate.from_messages(\n",
        "    [\n",
        "        ('system', system_prompt),\n",
        "        ('user', '{context}')\n",
        "    ]\n",
        ")\n",
        "\n",
        "negative_chain = RunnablePassthrough.assign(qa = negative_prompt | llm | StrOutputParser()) | parse_qa"
      ]
    },
    {
      "cell_type": "code",
      "execution_count": null,
      "metadata": {
        "colab": {
          "base_uri": "https://localhost:8080/"
        },
        "collapsed": true,
        "id": "LrDGftuvxAWu",
        "outputId": "ceee570e-ab80-428b-9b9b-a6dd166ad94b"
      },
      "outputs": [],
      "source": [
        "neg_data = negative_chain.batch(corpus[0:300])\n",
        "neg_data"
      ]
    },
    {
      "cell_type": "code",
      "execution_count": 27,
      "metadata": {
        "id": "JSzAtgGhxAY2"
      },
      "outputs": [],
      "source": [
        "neg_data = pd.DataFrame(neg_data)\n",
        "neg_data.to_csv('RAG_Data_full_neg.csv', index=False, encoding='utf-8')"
      ]
    },
    {
      "cell_type": "code",
      "execution_count": 27,
      "metadata": {
        "id": "6RPHhzLdxAaw"
      },
      "outputs": [],
      "source": []
    },
    {
      "cell_type": "markdown",
      "metadata": {
        "id": "K8oSVRE_Emdp"
      },
      "source": [
        "# SFT 데이터 준비\n",
        "\n",
        "  - SFT 실습에 사용할 데이터를 준비합니다.\n",
        "  - dataset 라이브러리로 로딩합니다.\n",
        "  - LLM 에 맞도록 chat template 을 적용합니다"
      ]
    },
    {
      "cell_type": "code",
      "execution_count": null,
      "metadata": {
        "colab": {
          "base_uri": "https://localhost:8080/",
          "height": 153,
          "referenced_widgets": [
            "9373b72b120f40b087cf9e0126be3f1b",
            "61c5269c316545d1a8493208d7915a3d",
            "d187b49bc0884b968dd606f6cd3a96fa",
            "7707d56b87fe4e09821845d9b8bb72ed",
            "21aa4faeebc64907b59a2ec792d7c77f",
            "588507a5aa4d4cf99f970fe80e9c5def",
            "47e1c07b9a4d4a30b5ca81480564ebb4",
            "5e1a1b9dfa854d96a7d58c685fb99819",
            "c80a748f82d647249189ce9901addc97",
            "0e249f8a3b224bb3a38c429ab6608d8a",
            "6d8485f548a94efbb53bf0508c4563bf"
          ]
        },
        "id": "jm4FzCvfeYcK",
        "outputId": "8acde138-913e-4072-ecd4-fab65164d0b6"
      },
      "outputs": [],
      "source": [
        "from datasets import load_dataset\n",
        "import os\n",
        "\n",
        "file_path = ['RAG_Data_full.csv', 'RAG_Data_full_neg.csv']\n",
        "\n",
        "data = load_dataset(\"csv\",\n",
        "                    data_files={\"train\":file_path})\n",
        "\n",
        "# train_test split 나누기\n",
        "# data = load_dataset(\"csv\",\n",
        "#                     data_files={\"train\":file_path}, split='train').train_test_split(0.1)\n",
        "\n",
        "data = data.shuffle()\n",
        "data"
      ]
    },
    {
      "cell_type": "code",
      "execution_count": 28,
      "metadata": {
        "id": "d5mW6bv3bxUG"
      },
      "outputs": [],
      "source": []
    },
    {
      "cell_type": "code",
      "execution_count": 29,
      "metadata": {
        "id": "iwv9ShYd3wM_"
      },
      "outputs": [],
      "source": [
        "def convert_format(context,question,answer=None, add_generation_prompt=False):\n",
        "    # add_generation_prompt의 필요 여부에 따라 결정\n",
        "\n",
        "    chat = [\n",
        "        {'role':'system',\n",
        "         'content':\"\"\"당신은 매우 거만합니다. [Context]를 참고하여, 사용자의 [Question]에 반말로 대답하세요.\n",
        "정답을 알고 있는 경우, 답변은 항상 '그것도 몰라?' 로 시작해야 합니다. 사용자의 질문에 대한 답변을 하기 위해 필요한 본문의 일부를 인용하세요.\n",
        "답을 모르는 경우, '내가 그딴 걸 어떻게 알아?' 라고만 답변하세요.\"\"\"},\n",
        "        {'role':'user',\n",
        "         'content':f\"Context: {context}\\n\"\n",
        "         \"---\\n\"\n",
        "        f\"Question: {question}\"}\n",
        "    ]\n",
        "    if answer:\n",
        "        chat.append(\n",
        "            {'role':'assistant',\n",
        "             'content':f\"{answer} END\"}\n",
        "        )\n",
        "    return {'text':tokenizer.apply_chat_template(chat, tokenize=False, add_generation_prompt=add_generation_prompt)}\n"
      ]
    },
    {
      "cell_type": "code",
      "execution_count": null,
      "metadata": {
        "colab": {
          "base_uri": "https://localhost:8080/",
          "height": 49,
          "referenced_widgets": [
            "063430c7642e4ffe8df5ba5dd5e66e86",
            "85a62fcfc31d4469b411fcc6460a6595",
            "8ad2366e934f40a4bebac9fbdf8f2382",
            "cd7e8616a5294f4ab96c3eae8dc635dd",
            "5cb12feac0cc41ad96d708ab668609f8",
            "af5fe65e15544d0e9127e94988da5a1b",
            "e999c06476c145f0aef38a8224bf42f2",
            "b421d749fe6d4679a3eccfefd595be0a",
            "1acd1f5d5c1b4e53bc945f9c9c96f0f1",
            "9a2178d4929745a6aa60e006f75e5818",
            "c3598eceb20d45709565ca9641e07080"
          ]
        },
        "id": "ZYI1ZEpCw0QA",
        "outputId": "a71da54d-d69d-4422-dce0-78cd99f17ccc"
      },
      "outputs": [],
      "source": [
        "data = data.map(lambda x:convert_format(x['context'],x['question'], x['answer']))\n"
      ]
    },
    {
      "cell_type": "code",
      "execution_count": null,
      "metadata": {
        "colab": {
          "base_uri": "https://localhost:8080/",
          "height": 105
        },
        "id": "IyIgZwb7lUOq",
        "outputId": "9a54e426-73b1-4720-ea7e-d87e0087a1d8"
      },
      "outputs": [],
      "source": [
        "[row for row in data['train']][0]['text']"
      ]
    },
    {
      "cell_type": "code",
      "execution_count": null,
      "metadata": {
        "colab": {
          "base_uri": "https://localhost:8080/"
        },
        "id": "VWmCo87FG6Mh",
        "outputId": "e9d1c530-aab5-48bf-88c2-edf765386f8b"
      },
      "outputs": [],
      "source": [
        "print(data['train'][0]['text'])"
      ]
    },
    {
      "cell_type": "code",
      "execution_count": null,
      "metadata": {
        "colab": {
          "base_uri": "https://localhost:8080/"
        },
        "id": "WxU6FA1XG6Mi",
        "outputId": "da076f39-ab29-422c-dfe4-dbd8a8c48949"
      },
      "outputs": [],
      "source": [
        "test_context = '''참고래는 전체적으로 몸통이 길고 날씬하므로 쉽게 구별할 수 있다. 암컷과 수컷의 평균 몸길이는 각각 19에서 20미터 정도이다. 북반구에 분포하는 아종은 24미터까지 자랄 수 있으며, 남극 지방의 아종은 최대 26.8미터나 된다.[7] 성체의 몸무게를 직접 계량한 적은 없지만, 추측치로 몸길이 25미터의 개체는 70톤이 나갈 수 있다는 결과가 있다. 완전히 성숙하는 데에는 상당한 기간이 필요한데 25년에서 30년이 걸린다.[18] 최대 94년까지 산 것이 확인된 적이 있다.[18] 갓 태어난 참고래의 몸길이는 6.5미터 정도이며, 몸무게는 1,800킬로그램 정도이다.[19] 이들의 어마어마한 크기는 그들을 다른 고래들과 구분하기에 충분하며, 때때로 대왕고래나 보리고래 같은 다른 대형 고래와 혼동될 뿐이다.'''\n",
        "\n",
        "test_question = '''참고래의 몸길이는 최대 얼마나 될 수 있나요?'''\n",
        "\n",
        "test_prompt = convert_format(test_context,test_question, add_generation_prompt=True)['text']\n",
        "print(test_prompt)"
      ]
    },
    {
      "cell_type": "code",
      "execution_count": null,
      "metadata": {
        "colab": {
          "base_uri": "https://localhost:8080/"
        },
        "id": "lgu1w4UdG6Mi",
        "outputId": "c5257900-ddfc-4a5d-d942-708765042123"
      },
      "outputs": [],
      "source": [
        "response = pipe(test_prompt, truncation=True)\n",
        "\n",
        "print(response[0]['generated_text'])"
      ]
    },
    {
      "cell_type": "markdown",
      "metadata": {
        "id": "YSEOnWzLSCMp"
      },
      "source": [
        "# Full Fine Tuning\n",
        "\n",
        "  - HuggingFace TRL SFT 라이브러리로 튜닝하기"
      ]
    },
    {
      "cell_type": "code",
      "execution_count": null,
      "metadata": {
        "colab": {
          "base_uri": "https://localhost:8080/",
          "height": 1000,
          "referenced_widgets": [
            "337e341f04004e3c88218f1dcd244858",
            "8d431db346764b398a45e1fa560ba159",
            "7f564c928fe548d08c7caf02cbc1c136",
            "25d5c25273704cb8a9e7a75feb85ef45",
            "4d8c7c6eebe348adab138689061253ef",
            "5a30ec1f79784ac4b49dca921a5317ea",
            "d3e5d7c50368427694043d211d44061e",
            "085733b951cc46eea4d5b0b7c77f2f17",
            "2f5a46ad8f1244fab291135e19e86c12",
            "58f2cf8ca6ce4dc3b3a4ebaa75e39941",
            "dbb6a92d58774879be1bf111df7a7869",
            "b977d1d952a34003a957246d3a355a84",
            "fa417e62ddb648f9b3270898f4fd02cb",
            "6c92b792e3244b7fb97552ac2bc04214",
            "2a2d75ccbd1a47a3b7d39e2152e5df94",
            "3213ed10e44742a388d8fe40735920f3",
            "25042e1b237340beb25c599abd099a27",
            "0644d29fa4834f7699d2633b0d47cea5",
            "f8eb5e48aa0849ffbf44f8958ea8fe63",
            "95918f188a474274905c68dfff78445b",
            "9033854659fd4f4d824765cb5495c390",
            "6f8a1c6075a44a349367522e37cc0d22",
            "44e38c0bfef141a291e081576342f914",
            "868d5112edfe4c6e9fa694d9f658df3b",
            "cca77bb19a274de9a847ad43e7fe0dbe",
            "9a652ea1d9f74de7b285244360138563",
            "ebae0f2b631a41f18be1e622327bc16e",
            "34aaf5137ad3472c8a362f647a1e9dbf",
            "276e7933530b441ebb23f3f5d8ceb15b",
            "2dc0d3c02ef74f1db08527b634ff5981",
            "ac589101fa514a08a1871475f8b42396",
            "52ec216867994b3190961c337ad80a07",
            "2962617eafba430d8d38961f30b298ce",
            "1a694dd08e3a4a82984cbd017123b4e1",
            "d183be9186d4459ca41831a8aa389f5d",
            "c69e97b0a6d94a28874eadca219ff4c1",
            "f68faa95ee81423583d25cbf985c18c1",
            "e81884c082f74680b09384a0a00080b8",
            "c85959e5eefb47a798545e630a1eafc0",
            "6e25f2e40d174e18875d103d923d931e",
            "e6fac80218ab47d2a7e96fdb62428685",
            "5090261b454646fbbaa31f325500e538",
            "a97f8d8440924ce99afd3c3049484416",
            "e51affe9cc3c423f8bce4f40464c0694",
            "9b9bd3cca53047698422f6ec3306771e",
            "5d2c30d924a14cd09ae67c940ce14401",
            "cc515a6cb9e54fc18a7fa0990cba787b",
            "0a98a2d15b804f3b91257bafd127e5c0",
            "c7a2ad95c8f44916844ae0ed2531034b",
            "0a0c5994d7a2468b84ac14b5cb78c386",
            "10dbcda02c5243c896be198e3f830c3d",
            "5c3797e191404e35a783cc0aaafa17fb",
            "e94c69fb8ff74d0fbfec209096cd8d72",
            "e9575fe3e069455d81fc762c542ee6e9",
            "9e6d96e8ed0f4c1cb26c0eca8abbd979"
          ]
        },
        "collapsed": true,
        "id": "LDHuZiunSadT",
        "outputId": "8602afe3-96e0-4d57-ff49-9483541babeb"
      },
      "outputs": [],
      "source": [
        "from trl import SFTTrainer, SFTConfig\n",
        "from trl import DataCollatorForCompletionOnlyLM\n",
        "\n",
        "tokenizer.pad_token = tokenizer.eos_token\n",
        "\n",
        "response_template = \"<|im_start|>assistant\"\n",
        "collator = DataCollatorForCompletionOnlyLM(response_template, tokenizer=tokenizer)\n",
        "\n",
        "sft_config = SFTConfig(\n",
        "    report_to='none',\n",
        "    gradient_checkpointing_kwargs={'use_reentrant':False},\n",
        "    # evaluation_strategy=\"steps\",\n",
        "    # # logging_step당 validation loss 계산하는 옵션\n",
        "\n",
        "    max_steps= 800,\n",
        "    # batch의 입력을 max_steps만큼 수행\n",
        "    # batch * max_steps / len(data['train']) = Epochs\n",
        "    dataset_text_field=\"text\",\n",
        "    # dataset 'text' 필드를 사용\n",
        "\n",
        "    per_device_train_batch_size=1,\n",
        "    # GPU당 데이터 1개씩 입력\n",
        "\n",
        "    gradient_accumulation_steps=1,\n",
        "    # 그래디언트를 모아서 반영하는 스텝 수\n",
        "    # 배치사이즈를 키우는 것에 비해 메모리 소모가 감소하나, 속도가 느려짐\n",
        "\n",
        "    max_seq_length=768,\n",
        "    lr_scheduler_type='cosine',\n",
        "    # 학습률을 cosine 형태로 점진적 감소\n",
        "\n",
        "    learning_rate=1e-4,\n",
        "    bf16=True, # bfloat16 모델이므로 bf16 설정\n",
        "\n",
        "    optim=\"paged_adamw_8bit\",\n",
        "    output_dir=\"outputs\",\n",
        "    logging_steps=25,\n",
        "    # 손실함수 출력\n",
        "\n",
        "    # save_steps=50\n",
        "    # 체크포인트 저장\n",
        ")\n",
        "\n",
        "model_fulltuning = AutoModelForCausalLM.from_pretrained(model_id)\n",
        "\n",
        "trainer = SFTTrainer(\n",
        "    model=model_fulltuning,\n",
        "    train_dataset=data['train'],\n",
        "    # # eval 데이터셋을 사용하고 싶은 경우 아래 주석 해제\n",
        "    # eval_dataset=data['test'],\n",
        "\n",
        "    args=sft_config,\n",
        "    data_collator=collator\n",
        "\n",
        ")\n",
        "\n",
        "trainer.train()"
      ]
    },
    {
      "cell_type": "code",
      "execution_count": null,
      "metadata": {
        "colab": {
          "base_uri": "https://localhost:8080/"
        },
        "id": "nR4UoyBUkzD1",
        "outputId": "45a38a99-3483-44f9-ba9b-270d40918f11"
      },
      "outputs": [],
      "source": [
        "gen_config = dict(\n",
        "    do_sample=True,\n",
        "    max_new_tokens=512,\n",
        "    repetition_penalty = 1.1,\n",
        "    temperature = 0.7,\n",
        "    top_p = 0.8,\n",
        "    top_k = 20\n",
        ")\n",
        "\n",
        "pipe = pipeline(\"text-generation\", model=model_fulltuning, tokenizer=tokenizer, return_full_text=True,\n",
        "                **gen_config)"
      ]
    },
    {
      "cell_type": "code",
      "execution_count": null,
      "metadata": {
        "colab": {
          "base_uri": "https://localhost:8080/"
        },
        "id": "bTuZmzEikzF9",
        "outputId": "bc59ba6b-2106-4191-c8db-64135965c96b"
      },
      "outputs": [],
      "source": [
        "test_context = '''참고래의 등 부분은 밤회색이며, 배 쪽은 하얗다. 튀어나온 두 쌍의 숨구멍이 있으며, 납작하고 넓은 주둥이를 가지고 있다. 두 개의 밝은 색 문양이 숨구멍 뒤에서 시작해 몸의 측면으로 따라가 꼬리로 이어진다.[7] 오른쪽 턱에 하얀색 무늬가 있으며, 왼쪽은 회색 또는 검은색이다.[19] 이러한 비대칭성은 쇠정어리고래에게도 종종 발견되지만, 참고래들에게는 비대칭성이 진부하며, 다른 고래에게는 이러한 특성을 찾아볼 수 없으므로 다른 고래들과 구분하는 한 가지 척도가 되고 있다. 비대칭성은 그들이 돌 때 오른쪽으로 돌아 그렇게 됐다는 가설이 있지만, 실제로는 왼쪽으로도 돌기도 한다. 아직까지 이러한 비대칭성을 자세히 설명할 만한 가설은 없다.[20]\n",
        "\n",
        "참고래는 턱에서 몸 밑의 중앙부까지 이어지는 56에서 100개의 주름을 지니고 있는데, 먹이를 잡을 때 목을 팽창시키기 쉽게 하기 위한 것이다. 이들의 등지느러미의 길이는 60센티미터 정도이다. 가슴지느러미는 아주 작으며, 꼬리는 넓고 V자 모양이며 끝은 뾰족한 편이다.[7]'''\n",
        "\n",
        "test_question = '''참고래의 주름은 어떤 용도인가요?'''\n",
        "\n",
        "test_prompt = convert_format(test_context,test_question, add_generation_prompt=True)['text']\n",
        "\n",
        "print(test_prompt)"
      ]
    },
    {
      "cell_type": "code",
      "execution_count": null,
      "metadata": {
        "colab": {
          "base_uri": "https://localhost:8080/"
        },
        "id": "OwVFVTV4kzIT",
        "outputId": "ec069eef-d477-4306-f707-cde466f65fa7"
      },
      "outputs": [],
      "source": [
        "model.eval()\n",
        "\n",
        "response = pipe(test_prompt, stop_sequence=\" END\")\n",
        "\n",
        "print(response[0]['generated_text'])"
      ]
    },
    {
      "cell_type": "markdown",
      "metadata": {
        "id": "QHFRT30EtZCk"
      },
      "source": [
        "## 문제\n",
        "\n",
        "  - (아마도) 결과가 무언가 이상할 텐데요... 왜 그럴까요? 어떻게 해야할까요?"
      ]
    },
    {
      "cell_type": "markdown",
      "metadata": {
        "id": "Mp2gMi1ZzGET"
      },
      "source": [
        "# PEFT(Parameter-Efficient Fine Tuning)로 학습하기   \n",
        "전체 파인 튜닝을 하지 않고도, PEFT를 사용하면 파라미터의 수를 줄인 효과적인 튜닝이 가능합니다."
      ]
    },
    {
      "cell_type": "code",
      "execution_count": null,
      "metadata": {
        "colab": {
          "base_uri": "https://localhost:8080/"
        },
        "collapsed": true,
        "id": "osPhWU2u0SYo",
        "outputId": "f9d4c097-1f03-4a24-872d-c59e65f7265c"
      },
      "outputs": [],
      "source": [
        "model"
      ]
    },
    {
      "cell_type": "markdown",
      "metadata": {
        "id": "OaD3h0agDGkl"
      },
      "source": [
        "트랜스포머 기반의 모델이 아닌 경우, LoRa를 적용하는 레이어가 달라질 수 있습니다.   \n",
        "model의 출력 결과에서 모델의 구성 요소를 찾아봅시다."
      ]
    },
    {
      "cell_type": "code",
      "execution_count": 40,
      "metadata": {
        "id": "Ybeyl20n3dYH"
      },
      "outputs": [],
      "source": [
        "from peft import prepare_model_for_kbit_training\n",
        "from peft import LoraConfig, get_peft_model\n",
        "\n",
        "model.gradient_checkpointing_enable()\n",
        "model = prepare_model_for_kbit_training(model)\n",
        "\n",
        "config = LoraConfig(\n",
        "    r = 8, # 8차원 (d-->r) : 보통은 8이나 16\n",
        "    lora_alpha=16, # (보통은 r과 함께 (8,16) 또는 (16,32))\n",
        "    target_modules=[\n",
        "    \"q_proj\",\n",
        "    \"k_proj\",\n",
        "    \"v_proj\",\n",
        "    \"o_proj\",\n",
        "    \"up_proj\",\n",
        "    \"down_proj\",\n",
        "    \"gate_proj\"],\n",
        "    lora_dropout=0,\n",
        "    bias=\"none\",\n",
        "    task_type=\"CAUSAL_LM\",\n",
        ")\n",
        "\n",
        "model_peft = get_peft_model(model, config)"
      ]
    },
    {
      "cell_type": "code",
      "execution_count": null,
      "metadata": {
        "colab": {
          "base_uri": "https://localhost:8080/"
        },
        "collapsed": true,
        "id": "Iu3qtdaVWYgE",
        "outputId": "2351f51b-de22-4785-b2cc-b4bc3d5a63cc"
      },
      "outputs": [],
      "source": [
        "model_peft"
      ]
    },
    {
      "cell_type": "code",
      "execution_count": null,
      "metadata": {
        "colab": {
          "base_uri": "https://localhost:8080/"
        },
        "id": "v3jbNTs5nQX5",
        "outputId": "0e5a2cda-24cd-45d1-de7e-125996029c85"
      },
      "outputs": [],
      "source": [
        "# 학습되는 파라미터 수 출력\n",
        "model_peft.print_trainable_parameters()"
      ]
    },
    {
      "cell_type": "markdown",
      "metadata": {
        "id": "_0MOtwf3zdZp"
      },
      "source": [
        "Huggingface의 trl 라이브러리는 파인 튜닝을 쉽게 수행하게 해 주는 라이브러리입니다.     \n",
        "이번에 수행할 파인 튜닝은 Supervised Fine Tuning이므로, `SFTTrainer`를 불러와서 수행합니다."
      ]
    },
    {
      "cell_type": "code",
      "execution_count": null,
      "metadata": {
        "colab": {
          "base_uri": "https://localhost:8080/"
        },
        "id": "GwKCsG5wndlG",
        "outputId": "ebbf4a49-f7ac-4ed2-d08e-6a3dece74a13"
      },
      "outputs": [],
      "source": [
        "data['train']"
      ]
    },
    {
      "cell_type": "code",
      "execution_count": null,
      "metadata": {
        "colab": {
          "base_uri": "https://localhost:8080/"
        },
        "id": "xhArr94vbxUI",
        "outputId": "50ffa897-ed73-4cb1-b79f-26a272d6cc11"
      },
      "outputs": [],
      "source": [
        "len(data['train']['text'])"
      ]
    },
    {
      "cell_type": "code",
      "execution_count": null,
      "metadata": {
        "colab": {
          "base_uri": "https://localhost:8080/",
          "height": 1000
        },
        "id": "Z1MKB9TmOi0d",
        "outputId": "9f6315d9-eb8d-4dfb-ccd9-40d3f33df178"
      },
      "outputs": [],
      "source": [
        "from trl import SFTTrainer, SFTConfig\n",
        "from trl import DataCollatorForCompletionOnlyLM\n",
        "\n",
        "tokenizer.pad_token = tokenizer.eos_token\n",
        "\n",
        "response_template = \"<|im_start|>assistant\"\n",
        "collator = DataCollatorForCompletionOnlyLM(response_template, tokenizer=tokenizer)\n",
        "\n",
        "sft_config = SFTConfig(\n",
        "    report_to='none',\n",
        "    gradient_checkpointing_kwargs={'use_reentrant':False},\n",
        "    # evaluation_strategy=\"steps\",\n",
        "    # # logging_step당 validation loss 계산하는 옵션\n",
        "\n",
        "    max_steps= 800,\n",
        "    # batch의 입력을 max_steps만큼 수행\n",
        "    # batch * max_steps / len(data['train']) = Epochs\n",
        "    dataset_text_field=\"text\",\n",
        "    # dataset 'text' 필드를 사용\n",
        "\n",
        "    per_device_train_batch_size=1,\n",
        "    # GPU당 데이터 1개씩 입력\n",
        "\n",
        "    gradient_accumulation_steps=1,\n",
        "    # 그래디언트를 모아서 반영하는 스텝 수\n",
        "    # 배치사이즈를 키우는 것에 비해 메모리 소모가 감소하나, 속도가 느려짐\n",
        "\n",
        "    max_seq_length=768,\n",
        "    lr_scheduler_type='cosine',\n",
        "    # 학습률을 cosine 형태로 점진적 감소\n",
        "\n",
        "    learning_rate=1e-4,\n",
        "    bf16=True, # bfloat16 모델이므로 bf16 설정\n",
        "\n",
        "    optim=\"paged_adamw_8bit\",\n",
        "    output_dir=\"outputs\",\n",
        "    logging_steps=25,\n",
        "    # 손실함수 출력\n",
        "\n",
        "    # save_steps=50\n",
        "    # 체크포인트 저장\n",
        ")\n",
        "trainer = SFTTrainer(\n",
        "    model=model_peft,\n",
        "    train_dataset=data['train'],\n",
        "    # # eval 데이터셋을 사용하고 싶은 경우 아래 주석 해제\n",
        "    # eval_dataset=data['test'],\n",
        "\n",
        "    args=sft_config,\n",
        "    data_collator=collator\n",
        "\n",
        ")\n",
        "\n",
        "trainer.train()"
      ]
    },
    {
      "cell_type": "markdown",
      "metadata": {
        "id": "JZnaG1PPG6Mj"
      },
      "source": [
        "만약 전체 텍스트를 모두 학습시키고 싶다면, DataCollator를 비활성화하면 됩니다."
      ]
    },
    {
      "cell_type": "markdown",
      "metadata": {
        "id": "47U3zUpwG6Mj"
      },
      "source": [
        "## 학습 결과 확인하기"
      ]
    },
    {
      "cell_type": "markdown",
      "metadata": {
        "id": "TEZsPfYrbxUI"
      },
      "source": [
        "출력의 포맷을 END 토큰으로 끝맺었으므로, pipeline의 stop_sequence를 통해 출력을 제어합니다."
      ]
    },
    {
      "cell_type": "code",
      "execution_count": null,
      "metadata": {
        "colab": {
          "base_uri": "https://localhost:8080/"
        },
        "id": "E9F-AWdt_oOc",
        "outputId": "b36f0b42-4a3f-4d7c-d95d-3112586da3c1"
      },
      "outputs": [],
      "source": [
        "gen_config = dict(\n",
        "    do_sample=True,\n",
        "    max_new_tokens=512,\n",
        "    repetition_penalty = 1.1,\n",
        "    temperature = 0.7,\n",
        "    top_p = 0.8,\n",
        "    top_k = 20\n",
        ")\n",
        "\n",
        "pipe = pipeline(\"text-generation\", model=model, tokenizer=tokenizer, return_full_text=True,\n",
        "                **gen_config)"
      ]
    },
    {
      "cell_type": "code",
      "execution_count": null,
      "metadata": {
        "colab": {
          "base_uri": "https://localhost:8080/"
        },
        "id": "afMezykDG6Mj",
        "outputId": "03c73c61-601c-48bf-efde-620e94790c4d"
      },
      "outputs": [],
      "source": [
        "test_context = '''참고래의 등 부분은 밤회색이며, 배 쪽은 하얗다. 튀어나온 두 쌍의 숨구멍이 있으며, 납작하고 넓은 주둥이를 가지고 있다. 두 개의 밝은 색 문양이 숨구멍 뒤에서 시작해 몸의 측면으로 따라가 꼬리로 이어진다.[7] 오른쪽 턱에 하얀색 무늬가 있으며, 왼쪽은 회색 또는 검은색이다.[19] 이러한 비대칭성은 쇠정어리고래에게도 종종 발견되지만, 참고래들에게는 비대칭성이 진부하며, 다른 고래에게는 이러한 특성을 찾아볼 수 없으므로 다른 고래들과 구분하는 한 가지 척도가 되고 있다. 비대칭성은 그들이 돌 때 오른쪽으로 돌아 그렇게 됐다는 가설이 있지만, 실제로는 왼쪽으로도 돌기도 한다. 아직까지 이러한 비대칭성을 자세히 설명할 만한 가설은 없다.[20]\n",
        "\n",
        "참고래는 턱에서 몸 밑의 중앙부까지 이어지는 56에서 100개의 주름을 지니고 있는데, 먹이를 잡을 때 목을 팽창시키기 쉽게 하기 위한 것이다. 이들의 등지느러미의 길이는 60센티미터 정도이다. 가슴지느러미는 아주 작으며, 꼬리는 넓고 V자 모양이며 끝은 뾰족한 편이다.[7]'''\n",
        "\n",
        "test_question = '''참고래의 주름은 어떤 용도인가요?'''\n",
        "\n",
        "test_prompt = convert_format(test_context,test_question, add_generation_prompt=True)['text']\n",
        "\n",
        "print(test_prompt)"
      ]
    },
    {
      "cell_type": "code",
      "execution_count": null,
      "metadata": {
        "colab": {
          "base_uri": "https://localhost:8080/"
        },
        "id": "yxDZD0zmbxUM",
        "outputId": "b8c3e43d-ab1b-4d9c-fce5-701ef5109e3f"
      },
      "outputs": [],
      "source": [
        "model.eval()\n",
        "\n",
        "response = pipe(test_prompt, stop_sequence=\" END\")\n",
        "\n",
        "print(response[0]['generated_text'])"
      ]
    },
    {
      "cell_type": "markdown",
      "metadata": {
        "id": "LvN9iBjA-x8V"
      },
      "source": [
        "## 모델 저장하고 huggingface 계정에 업로드하기\n",
        "\n",
        "WRITE 권한 토큰이 필요합니다."
      ]
    },
    {
      "cell_type": "code",
      "execution_count": 49,
      "metadata": {
        "collapsed": true,
        "id": "S8UnErwL_AQ3"
      },
      "outputs": [],
      "source": [
        "import locale\n",
        "locale.getpreferredencoding = lambda: \"UTF-8\"\n",
        "\n",
        "#login('')\n",
        "\n",
        "# Write 권한 토큰 필요"
      ]
    },
    {
      "cell_type": "code",
      "execution_count": 49,
      "metadata": {
        "id": "JEKOx3d0bxUM"
      },
      "outputs": [],
      "source": []
    },
    {
      "cell_type": "code",
      "execution_count": 50,
      "metadata": {
        "id": "7K9oYY6MYq_d"
      },
      "outputs": [],
      "source": [
        "model_peft.save_pretrained('./Qwen2.5_Rude_adapter')"
      ]
    },
    {
      "cell_type": "code",
      "execution_count": 51,
      "metadata": {
        "id": "rY0LMH2Q_Csw"
      },
      "outputs": [],
      "source": [
        "# # # 개인 계정 주소에 업로드하기\n",
        "\n",
        "# model_peft.push_to_hub('jonhpark/Qwen2.5_Rude_RAG')\n",
        "# tokenizer.push_to_hub('jonhpark/Qwen2.5_Rude_RAG')\n",
        "# # # 토크나이저도 함께 업로드\n"
      ]
    },
    {
      "cell_type": "markdown",
      "metadata": {
        "id": "QNJU0hqHbxUN"
      },
      "source": [
        "만약 베이스모델이 포함된 전체 모델을 업로드하고 싶다면 `merge_and_unload()`를 사용합니다."
      ]
    },
    {
      "cell_type": "code",
      "execution_count": 52,
      "metadata": {
        "id": "RcizYkEua8QR"
      },
      "outputs": [],
      "source": [
        "model_peft_merged = model_peft.merge_and_unload()\n",
        "#model_peft_merged"
      ]
    },
    {
      "cell_type": "code",
      "execution_count": 53,
      "metadata": {
        "id": "W7psjpd0bxUN"
      },
      "outputs": [],
      "source": [
        "# # # 개인 계정 주소에 업로드하기\n",
        "\n",
        "# model_peft_merged.push_to_hub('jonhpark/Qwen2.5_Rude_RAG_FULL')\n",
        "# tokenizer.push_to_hub('jonhpark/Qwen2.5_Rude_RAG_FULL')"
      ]
    },
    {
      "cell_type": "code",
      "execution_count": 54,
      "metadata": {
        "id": "0zni2JLSbxUN"
      },
      "outputs": [],
      "source": [
        "# # 이후 작업을 위해 오프라인 저장\n",
        "model_peft_merged.save_pretrained('./Qwen2_Rude_RAG_FULL')"
      ]
    },
    {
      "cell_type": "markdown",
      "metadata": {
        "id": "YrIeUEb3bxUN"
      },
      "source": [
        "모델을 저장한 뒤, Kernel Restart를 실행하여 공간을 비웁니다."
      ]
    },
    {
      "cell_type": "code",
      "execution_count": 54,
      "metadata": {
        "id": "anvoekOZ_Yq4"
      },
      "outputs": [],
      "source": []
    }
  ],
  "metadata": {
    "accelerator": "GPU",
    "colab": {
      "gpuType": "A100",
      "machine_shape": "hm",
      "provenance": []
    },
    "kernelspec": {
      "display_name": "Python 3",
      "name": "python3"
    },
    "language_info": {
      "codemirror_mode": {
        "name": "ipython",
        "version": 3
      },
      "file_extension": ".py",
      "mimetype": "text/x-python",
      "name": "python",
      "nbconvert_exporter": "python",
      "pygments_lexer": "ipython3",
      "version": "3.12.7"
    },
    "widgets": {
      "application/vnd.jupyter.widget-state+json": {
        "063430c7642e4ffe8df5ba5dd5e66e86": {
          "model_module": "@jupyter-widgets/controls",
          "model_module_version": "1.5.0",
          "model_name": "HBoxModel",
          "state": {
            "_dom_classes": [],
            "_model_module": "@jupyter-widgets/controls",
            "_model_module_version": "1.5.0",
            "_model_name": "HBoxModel",
            "_view_count": null,
            "_view_module": "@jupyter-widgets/controls",
            "_view_module_version": "1.5.0",
            "_view_name": "HBoxView",
            "box_style": "",
            "children": [
              "IPY_MODEL_85a62fcfc31d4469b411fcc6460a6595",
              "IPY_MODEL_8ad2366e934f40a4bebac9fbdf8f2382",
              "IPY_MODEL_cd7e8616a5294f4ab96c3eae8dc635dd"
            ],
            "layout": "IPY_MODEL_5cb12feac0cc41ad96d708ab668609f8"
          }
        },
        "0644d29fa4834f7699d2633b0d47cea5": {
          "model_module": "@jupyter-widgets/controls",
          "model_module_version": "1.5.0",
          "model_name": "DescriptionStyleModel",
          "state": {
            "_model_module": "@jupyter-widgets/controls",
            "_model_module_version": "1.5.0",
            "_model_name": "DescriptionStyleModel",
            "_view_count": null,
            "_view_module": "@jupyter-widgets/base",
            "_view_module_version": "1.2.0",
            "_view_name": "StyleView",
            "description_width": ""
          }
        },
        "085733b951cc46eea4d5b0b7c77f2f17": {
          "model_module": "@jupyter-widgets/base",
          "model_module_version": "1.2.0",
          "model_name": "LayoutModel",
          "state": {
            "_model_module": "@jupyter-widgets/base",
            "_model_module_version": "1.2.0",
            "_model_name": "LayoutModel",
            "_view_count": null,
            "_view_module": "@jupyter-widgets/base",
            "_view_module_version": "1.2.0",
            "_view_name": "LayoutView",
            "align_content": null,
            "align_items": null,
            "align_self": null,
            "border": null,
            "bottom": null,
            "display": null,
            "flex": null,
            "flex_flow": null,
            "grid_area": null,
            "grid_auto_columns": null,
            "grid_auto_flow": null,
            "grid_auto_rows": null,
            "grid_column": null,
            "grid_gap": null,
            "grid_row": null,
            "grid_template_areas": null,
            "grid_template_columns": null,
            "grid_template_rows": null,
            "height": null,
            "justify_content": null,
            "justify_items": null,
            "left": null,
            "margin": null,
            "max_height": null,
            "max_width": null,
            "min_height": null,
            "min_width": null,
            "object_fit": null,
            "object_position": null,
            "order": null,
            "overflow": null,
            "overflow_x": null,
            "overflow_y": null,
            "padding": null,
            "right": null,
            "top": null,
            "visibility": null,
            "width": null
          }
        },
        "0a0c5994d7a2468b84ac14b5cb78c386": {
          "model_module": "@jupyter-widgets/base",
          "model_module_version": "1.2.0",
          "model_name": "LayoutModel",
          "state": {
            "_model_module": "@jupyter-widgets/base",
            "_model_module_version": "1.2.0",
            "_model_name": "LayoutModel",
            "_view_count": null,
            "_view_module": "@jupyter-widgets/base",
            "_view_module_version": "1.2.0",
            "_view_name": "LayoutView",
            "align_content": null,
            "align_items": null,
            "align_self": null,
            "border": null,
            "bottom": null,
            "display": null,
            "flex": null,
            "flex_flow": null,
            "grid_area": null,
            "grid_auto_columns": null,
            "grid_auto_flow": null,
            "grid_auto_rows": null,
            "grid_column": null,
            "grid_gap": null,
            "grid_row": null,
            "grid_template_areas": null,
            "grid_template_columns": null,
            "grid_template_rows": null,
            "height": null,
            "justify_content": null,
            "justify_items": null,
            "left": null,
            "margin": null,
            "max_height": null,
            "max_width": null,
            "min_height": null,
            "min_width": null,
            "object_fit": null,
            "object_position": null,
            "order": null,
            "overflow": null,
            "overflow_x": null,
            "overflow_y": null,
            "padding": null,
            "right": null,
            "top": null,
            "visibility": null,
            "width": null
          }
        },
        "0a98a2d15b804f3b91257bafd127e5c0": {
          "model_module": "@jupyter-widgets/controls",
          "model_module_version": "1.5.0",
          "model_name": "HTMLModel",
          "state": {
            "_dom_classes": [],
            "_model_module": "@jupyter-widgets/controls",
            "_model_module_version": "1.5.0",
            "_model_name": "HTMLModel",
            "_view_count": null,
            "_view_module": "@jupyter-widgets/controls",
            "_view_module_version": "1.5.0",
            "_view_name": "HTMLView",
            "description": "",
            "description_tooltip": null,
            "layout": "IPY_MODEL_e9575fe3e069455d81fc762c542ee6e9",
            "placeholder": "​",
            "style": "IPY_MODEL_9e6d96e8ed0f4c1cb26c0eca8abbd979",
            "value": " 609/609 [00:00&lt;00:00, 40111.35 examples/s]"
          }
        },
        "0e249f8a3b224bb3a38c429ab6608d8a": {
          "model_module": "@jupyter-widgets/base",
          "model_module_version": "1.2.0",
          "model_name": "LayoutModel",
          "state": {
            "_model_module": "@jupyter-widgets/base",
            "_model_module_version": "1.2.0",
            "_model_name": "LayoutModel",
            "_view_count": null,
            "_view_module": "@jupyter-widgets/base",
            "_view_module_version": "1.2.0",
            "_view_name": "LayoutView",
            "align_content": null,
            "align_items": null,
            "align_self": null,
            "border": null,
            "bottom": null,
            "display": null,
            "flex": null,
            "flex_flow": null,
            "grid_area": null,
            "grid_auto_columns": null,
            "grid_auto_flow": null,
            "grid_auto_rows": null,
            "grid_column": null,
            "grid_gap": null,
            "grid_row": null,
            "grid_template_areas": null,
            "grid_template_columns": null,
            "grid_template_rows": null,
            "height": null,
            "justify_content": null,
            "justify_items": null,
            "left": null,
            "margin": null,
            "max_height": null,
            "max_width": null,
            "min_height": null,
            "min_width": null,
            "object_fit": null,
            "object_position": null,
            "order": null,
            "overflow": null,
            "overflow_x": null,
            "overflow_y": null,
            "padding": null,
            "right": null,
            "top": null,
            "visibility": null,
            "width": null
          }
        },
        "10dbcda02c5243c896be198e3f830c3d": {
          "model_module": "@jupyter-widgets/controls",
          "model_module_version": "1.5.0",
          "model_name": "DescriptionStyleModel",
          "state": {
            "_model_module": "@jupyter-widgets/controls",
            "_model_module_version": "1.5.0",
            "_model_name": "DescriptionStyleModel",
            "_view_count": null,
            "_view_module": "@jupyter-widgets/base",
            "_view_module_version": "1.2.0",
            "_view_name": "StyleView",
            "description_width": ""
          }
        },
        "1a694dd08e3a4a82984cbd017123b4e1": {
          "model_module": "@jupyter-widgets/controls",
          "model_module_version": "1.5.0",
          "model_name": "HBoxModel",
          "state": {
            "_dom_classes": [],
            "_model_module": "@jupyter-widgets/controls",
            "_model_module_version": "1.5.0",
            "_model_name": "HBoxModel",
            "_view_count": null,
            "_view_module": "@jupyter-widgets/controls",
            "_view_module_version": "1.5.0",
            "_view_name": "HBoxView",
            "box_style": "",
            "children": [
              "IPY_MODEL_d183be9186d4459ca41831a8aa389f5d",
              "IPY_MODEL_c69e97b0a6d94a28874eadca219ff4c1",
              "IPY_MODEL_f68faa95ee81423583d25cbf985c18c1"
            ],
            "layout": "IPY_MODEL_e81884c082f74680b09384a0a00080b8"
          }
        },
        "1acd1f5d5c1b4e53bc945f9c9c96f0f1": {
          "model_module": "@jupyter-widgets/controls",
          "model_module_version": "1.5.0",
          "model_name": "ProgressStyleModel",
          "state": {
            "_model_module": "@jupyter-widgets/controls",
            "_model_module_version": "1.5.0",
            "_model_name": "ProgressStyleModel",
            "_view_count": null,
            "_view_module": "@jupyter-widgets/base",
            "_view_module_version": "1.2.0",
            "_view_name": "StyleView",
            "bar_color": null,
            "description_width": ""
          }
        },
        "21aa4faeebc64907b59a2ec792d7c77f": {
          "model_module": "@jupyter-widgets/base",
          "model_module_version": "1.2.0",
          "model_name": "LayoutModel",
          "state": {
            "_model_module": "@jupyter-widgets/base",
            "_model_module_version": "1.2.0",
            "_model_name": "LayoutModel",
            "_view_count": null,
            "_view_module": "@jupyter-widgets/base",
            "_view_module_version": "1.2.0",
            "_view_name": "LayoutView",
            "align_content": null,
            "align_items": null,
            "align_self": null,
            "border": null,
            "bottom": null,
            "display": null,
            "flex": null,
            "flex_flow": null,
            "grid_area": null,
            "grid_auto_columns": null,
            "grid_auto_flow": null,
            "grid_auto_rows": null,
            "grid_column": null,
            "grid_gap": null,
            "grid_row": null,
            "grid_template_areas": null,
            "grid_template_columns": null,
            "grid_template_rows": null,
            "height": null,
            "justify_content": null,
            "justify_items": null,
            "left": null,
            "margin": null,
            "max_height": null,
            "max_width": null,
            "min_height": null,
            "min_width": null,
            "object_fit": null,
            "object_position": null,
            "order": null,
            "overflow": null,
            "overflow_x": null,
            "overflow_y": null,
            "padding": null,
            "right": null,
            "top": null,
            "visibility": null,
            "width": null
          }
        },
        "24ca0641c09f41369cb914fb6368e177": {
          "model_module": "@jupyter-widgets/controls",
          "model_module_version": "1.5.0",
          "model_name": "DescriptionStyleModel",
          "state": {
            "_model_module": "@jupyter-widgets/controls",
            "_model_module_version": "1.5.0",
            "_model_name": "DescriptionStyleModel",
            "_view_count": null,
            "_view_module": "@jupyter-widgets/base",
            "_view_module_version": "1.2.0",
            "_view_name": "StyleView",
            "description_width": ""
          }
        },
        "25042e1b237340beb25c599abd099a27": {
          "model_module": "@jupyter-widgets/base",
          "model_module_version": "1.2.0",
          "model_name": "LayoutModel",
          "state": {
            "_model_module": "@jupyter-widgets/base",
            "_model_module_version": "1.2.0",
            "_model_name": "LayoutModel",
            "_view_count": null,
            "_view_module": "@jupyter-widgets/base",
            "_view_module_version": "1.2.0",
            "_view_name": "LayoutView",
            "align_content": null,
            "align_items": null,
            "align_self": null,
            "border": null,
            "bottom": null,
            "display": null,
            "flex": null,
            "flex_flow": null,
            "grid_area": null,
            "grid_auto_columns": null,
            "grid_auto_flow": null,
            "grid_auto_rows": null,
            "grid_column": null,
            "grid_gap": null,
            "grid_row": null,
            "grid_template_areas": null,
            "grid_template_columns": null,
            "grid_template_rows": null,
            "height": null,
            "justify_content": null,
            "justify_items": null,
            "left": null,
            "margin": null,
            "max_height": null,
            "max_width": null,
            "min_height": null,
            "min_width": null,
            "object_fit": null,
            "object_position": null,
            "order": null,
            "overflow": null,
            "overflow_x": null,
            "overflow_y": null,
            "padding": null,
            "right": null,
            "top": null,
            "visibility": null,
            "width": null
          }
        },
        "25d5c25273704cb8a9e7a75feb85ef45": {
          "model_module": "@jupyter-widgets/controls",
          "model_module_version": "1.5.0",
          "model_name": "HTMLModel",
          "state": {
            "_dom_classes": [],
            "_model_module": "@jupyter-widgets/controls",
            "_model_module_version": "1.5.0",
            "_model_name": "HTMLModel",
            "_view_count": null,
            "_view_module": "@jupyter-widgets/controls",
            "_view_module_version": "1.5.0",
            "_view_name": "HTMLView",
            "description": "",
            "description_tooltip": null,
            "layout": "IPY_MODEL_58f2cf8ca6ce4dc3b3a4ebaa75e39941",
            "placeholder": "​",
            "style": "IPY_MODEL_dbb6a92d58774879be1bf111df7a7869",
            "value": " 2/2 [00:01&lt;00:00,  1.34it/s]"
          }
        },
        "276e7933530b441ebb23f3f5d8ceb15b": {
          "model_module": "@jupyter-widgets/controls",
          "model_module_version": "1.5.0",
          "model_name": "DescriptionStyleModel",
          "state": {
            "_model_module": "@jupyter-widgets/controls",
            "_model_module_version": "1.5.0",
            "_model_name": "DescriptionStyleModel",
            "_view_count": null,
            "_view_module": "@jupyter-widgets/base",
            "_view_module_version": "1.2.0",
            "_view_name": "StyleView",
            "description_width": ""
          }
        },
        "2962617eafba430d8d38961f30b298ce": {
          "model_module": "@jupyter-widgets/controls",
          "model_module_version": "1.5.0",
          "model_name": "DescriptionStyleModel",
          "state": {
            "_model_module": "@jupyter-widgets/controls",
            "_model_module_version": "1.5.0",
            "_model_name": "DescriptionStyleModel",
            "_view_count": null,
            "_view_module": "@jupyter-widgets/base",
            "_view_module_version": "1.2.0",
            "_view_name": "StyleView",
            "description_width": ""
          }
        },
        "2a2d75ccbd1a47a3b7d39e2152e5df94": {
          "model_module": "@jupyter-widgets/controls",
          "model_module_version": "1.5.0",
          "model_name": "HTMLModel",
          "state": {
            "_dom_classes": [],
            "_model_module": "@jupyter-widgets/controls",
            "_model_module_version": "1.5.0",
            "_model_name": "HTMLModel",
            "_view_count": null,
            "_view_module": "@jupyter-widgets/controls",
            "_view_module_version": "1.5.0",
            "_view_name": "HTMLView",
            "description": "",
            "description_tooltip": null,
            "layout": "IPY_MODEL_9033854659fd4f4d824765cb5495c390",
            "placeholder": "​",
            "style": "IPY_MODEL_6f8a1c6075a44a349367522e37cc0d22",
            "value": " 609/609 [00:00&lt;00:00, 14669.53 examples/s]"
          }
        },
        "2b28cac4e45647328ebdfb101051e2d6": {
          "model_module": "@jupyter-widgets/controls",
          "model_module_version": "1.5.0",
          "model_name": "HBoxModel",
          "state": {
            "_dom_classes": [],
            "_model_module": "@jupyter-widgets/controls",
            "_model_module_version": "1.5.0",
            "_model_name": "HBoxModel",
            "_view_count": null,
            "_view_module": "@jupyter-widgets/controls",
            "_view_module_version": "1.5.0",
            "_view_name": "HBoxView",
            "box_style": "",
            "children": [
              "IPY_MODEL_e81754db1825440ba25b27bdc0be00c9",
              "IPY_MODEL_2fca9995610b4275910f367bbeee07aa",
              "IPY_MODEL_2cf367e06d904823b3ea93896eede52f"
            ],
            "layout": "IPY_MODEL_cf5df788bfa34e119c9316ea556722e4"
          }
        },
        "2cf367e06d904823b3ea93896eede52f": {
          "model_module": "@jupyter-widgets/controls",
          "model_module_version": "1.5.0",
          "model_name": "HTMLModel",
          "state": {
            "_dom_classes": [],
            "_model_module": "@jupyter-widgets/controls",
            "_model_module_version": "1.5.0",
            "_model_name": "HTMLModel",
            "_view_count": null,
            "_view_module": "@jupyter-widgets/controls",
            "_view_module_version": "1.5.0",
            "_view_name": "HTMLView",
            "description": "",
            "description_tooltip": null,
            "layout": "IPY_MODEL_fdc3a1d2fdc942618ef8b3c3503dcfed",
            "placeholder": "​",
            "style": "IPY_MODEL_24ca0641c09f41369cb914fb6368e177",
            "value": " 2/2 [00:02&lt;00:00,  1.04s/it]"
          }
        },
        "2dc0d3c02ef74f1db08527b634ff5981": {
          "model_module": "@jupyter-widgets/base",
          "model_module_version": "1.2.0",
          "model_name": "LayoutModel",
          "state": {
            "_model_module": "@jupyter-widgets/base",
            "_model_module_version": "1.2.0",
            "_model_name": "LayoutModel",
            "_view_count": null,
            "_view_module": "@jupyter-widgets/base",
            "_view_module_version": "1.2.0",
            "_view_name": "LayoutView",
            "align_content": null,
            "align_items": null,
            "align_self": null,
            "border": null,
            "bottom": null,
            "display": null,
            "flex": null,
            "flex_flow": null,
            "grid_area": null,
            "grid_auto_columns": null,
            "grid_auto_flow": null,
            "grid_auto_rows": null,
            "grid_column": null,
            "grid_gap": null,
            "grid_row": null,
            "grid_template_areas": null,
            "grid_template_columns": null,
            "grid_template_rows": null,
            "height": null,
            "justify_content": null,
            "justify_items": null,
            "left": null,
            "margin": null,
            "max_height": null,
            "max_width": null,
            "min_height": null,
            "min_width": null,
            "object_fit": null,
            "object_position": null,
            "order": null,
            "overflow": null,
            "overflow_x": null,
            "overflow_y": null,
            "padding": null,
            "right": null,
            "top": null,
            "visibility": null,
            "width": null
          }
        },
        "2f5a46ad8f1244fab291135e19e86c12": {
          "model_module": "@jupyter-widgets/controls",
          "model_module_version": "1.5.0",
          "model_name": "ProgressStyleModel",
          "state": {
            "_model_module": "@jupyter-widgets/controls",
            "_model_module_version": "1.5.0",
            "_model_name": "ProgressStyleModel",
            "_view_count": null,
            "_view_module": "@jupyter-widgets/base",
            "_view_module_version": "1.2.0",
            "_view_name": "StyleView",
            "bar_color": null,
            "description_width": ""
          }
        },
        "2fca9995610b4275910f367bbeee07aa": {
          "model_module": "@jupyter-widgets/controls",
          "model_module_version": "1.5.0",
          "model_name": "FloatProgressModel",
          "state": {
            "_dom_classes": [],
            "_model_module": "@jupyter-widgets/controls",
            "_model_module_version": "1.5.0",
            "_model_name": "FloatProgressModel",
            "_view_count": null,
            "_view_module": "@jupyter-widgets/controls",
            "_view_module_version": "1.5.0",
            "_view_name": "ProgressView",
            "bar_style": "success",
            "description": "",
            "description_tooltip": null,
            "layout": "IPY_MODEL_c34c67261a7e4e2fa87419f3da4ebb74",
            "max": 2,
            "min": 0,
            "orientation": "horizontal",
            "style": "IPY_MODEL_d2bfe6cf25d74c3780a19da615b475b4",
            "value": 2
          }
        },
        "3213ed10e44742a388d8fe40735920f3": {
          "model_module": "@jupyter-widgets/base",
          "model_module_version": "1.2.0",
          "model_name": "LayoutModel",
          "state": {
            "_model_module": "@jupyter-widgets/base",
            "_model_module_version": "1.2.0",
            "_model_name": "LayoutModel",
            "_view_count": null,
            "_view_module": "@jupyter-widgets/base",
            "_view_module_version": "1.2.0",
            "_view_name": "LayoutView",
            "align_content": null,
            "align_items": null,
            "align_self": null,
            "border": null,
            "bottom": null,
            "display": null,
            "flex": null,
            "flex_flow": null,
            "grid_area": null,
            "grid_auto_columns": null,
            "grid_auto_flow": null,
            "grid_auto_rows": null,
            "grid_column": null,
            "grid_gap": null,
            "grid_row": null,
            "grid_template_areas": null,
            "grid_template_columns": null,
            "grid_template_rows": null,
            "height": null,
            "justify_content": null,
            "justify_items": null,
            "left": null,
            "margin": null,
            "max_height": null,
            "max_width": null,
            "min_height": null,
            "min_width": null,
            "object_fit": null,
            "object_position": null,
            "order": null,
            "overflow": null,
            "overflow_x": null,
            "overflow_y": null,
            "padding": null,
            "right": null,
            "top": null,
            "visibility": null,
            "width": null
          }
        },
        "337e341f04004e3c88218f1dcd244858": {
          "model_module": "@jupyter-widgets/controls",
          "model_module_version": "1.5.0",
          "model_name": "HBoxModel",
          "state": {
            "_dom_classes": [],
            "_model_module": "@jupyter-widgets/controls",
            "_model_module_version": "1.5.0",
            "_model_name": "HBoxModel",
            "_view_count": null,
            "_view_module": "@jupyter-widgets/controls",
            "_view_module_version": "1.5.0",
            "_view_name": "HBoxView",
            "box_style": "",
            "children": [
              "IPY_MODEL_8d431db346764b398a45e1fa560ba159",
              "IPY_MODEL_7f564c928fe548d08c7caf02cbc1c136",
              "IPY_MODEL_25d5c25273704cb8a9e7a75feb85ef45"
            ],
            "layout": "IPY_MODEL_4d8c7c6eebe348adab138689061253ef"
          }
        },
        "34aaf5137ad3472c8a362f647a1e9dbf": {
          "model_module": "@jupyter-widgets/base",
          "model_module_version": "1.2.0",
          "model_name": "LayoutModel",
          "state": {
            "_model_module": "@jupyter-widgets/base",
            "_model_module_version": "1.2.0",
            "_model_name": "LayoutModel",
            "_view_count": null,
            "_view_module": "@jupyter-widgets/base",
            "_view_module_version": "1.2.0",
            "_view_name": "LayoutView",
            "align_content": null,
            "align_items": null,
            "align_self": null,
            "border": null,
            "bottom": null,
            "display": null,
            "flex": null,
            "flex_flow": null,
            "grid_area": null,
            "grid_auto_columns": null,
            "grid_auto_flow": null,
            "grid_auto_rows": null,
            "grid_column": null,
            "grid_gap": null,
            "grid_row": null,
            "grid_template_areas": null,
            "grid_template_columns": null,
            "grid_template_rows": null,
            "height": null,
            "justify_content": null,
            "justify_items": null,
            "left": null,
            "margin": null,
            "max_height": null,
            "max_width": null,
            "min_height": null,
            "min_width": null,
            "object_fit": null,
            "object_position": null,
            "order": null,
            "overflow": null,
            "overflow_x": null,
            "overflow_y": null,
            "padding": null,
            "right": null,
            "top": null,
            "visibility": null,
            "width": null
          }
        },
        "44e38c0bfef141a291e081576342f914": {
          "model_module": "@jupyter-widgets/controls",
          "model_module_version": "1.5.0",
          "model_name": "HBoxModel",
          "state": {
            "_dom_classes": [],
            "_model_module": "@jupyter-widgets/controls",
            "_model_module_version": "1.5.0",
            "_model_name": "HBoxModel",
            "_view_count": null,
            "_view_module": "@jupyter-widgets/controls",
            "_view_module_version": "1.5.0",
            "_view_name": "HBoxView",
            "box_style": "",
            "children": [
              "IPY_MODEL_868d5112edfe4c6e9fa694d9f658df3b",
              "IPY_MODEL_cca77bb19a274de9a847ad43e7fe0dbe",
              "IPY_MODEL_9a652ea1d9f74de7b285244360138563"
            ],
            "layout": "IPY_MODEL_ebae0f2b631a41f18be1e622327bc16e"
          }
        },
        "47e1c07b9a4d4a30b5ca81480564ebb4": {
          "model_module": "@jupyter-widgets/controls",
          "model_module_version": "1.5.0",
          "model_name": "DescriptionStyleModel",
          "state": {
            "_model_module": "@jupyter-widgets/controls",
            "_model_module_version": "1.5.0",
            "_model_name": "DescriptionStyleModel",
            "_view_count": null,
            "_view_module": "@jupyter-widgets/base",
            "_view_module_version": "1.2.0",
            "_view_name": "StyleView",
            "description_width": ""
          }
        },
        "4d65a19476ff484489d3553d3dc8f542": {
          "model_module": "@jupyter-widgets/base",
          "model_module_version": "1.2.0",
          "model_name": "LayoutModel",
          "state": {
            "_model_module": "@jupyter-widgets/base",
            "_model_module_version": "1.2.0",
            "_model_name": "LayoutModel",
            "_view_count": null,
            "_view_module": "@jupyter-widgets/base",
            "_view_module_version": "1.2.0",
            "_view_name": "LayoutView",
            "align_content": null,
            "align_items": null,
            "align_self": null,
            "border": null,
            "bottom": null,
            "display": null,
            "flex": null,
            "flex_flow": null,
            "grid_area": null,
            "grid_auto_columns": null,
            "grid_auto_flow": null,
            "grid_auto_rows": null,
            "grid_column": null,
            "grid_gap": null,
            "grid_row": null,
            "grid_template_areas": null,
            "grid_template_columns": null,
            "grid_template_rows": null,
            "height": null,
            "justify_content": null,
            "justify_items": null,
            "left": null,
            "margin": null,
            "max_height": null,
            "max_width": null,
            "min_height": null,
            "min_width": null,
            "object_fit": null,
            "object_position": null,
            "order": null,
            "overflow": null,
            "overflow_x": null,
            "overflow_y": null,
            "padding": null,
            "right": null,
            "top": null,
            "visibility": null,
            "width": null
          }
        },
        "4d8c7c6eebe348adab138689061253ef": {
          "model_module": "@jupyter-widgets/base",
          "model_module_version": "1.2.0",
          "model_name": "LayoutModel",
          "state": {
            "_model_module": "@jupyter-widgets/base",
            "_model_module_version": "1.2.0",
            "_model_name": "LayoutModel",
            "_view_count": null,
            "_view_module": "@jupyter-widgets/base",
            "_view_module_version": "1.2.0",
            "_view_name": "LayoutView",
            "align_content": null,
            "align_items": null,
            "align_self": null,
            "border": null,
            "bottom": null,
            "display": null,
            "flex": null,
            "flex_flow": null,
            "grid_area": null,
            "grid_auto_columns": null,
            "grid_auto_flow": null,
            "grid_auto_rows": null,
            "grid_column": null,
            "grid_gap": null,
            "grid_row": null,
            "grid_template_areas": null,
            "grid_template_columns": null,
            "grid_template_rows": null,
            "height": null,
            "justify_content": null,
            "justify_items": null,
            "left": null,
            "margin": null,
            "max_height": null,
            "max_width": null,
            "min_height": null,
            "min_width": null,
            "object_fit": null,
            "object_position": null,
            "order": null,
            "overflow": null,
            "overflow_x": null,
            "overflow_y": null,
            "padding": null,
            "right": null,
            "top": null,
            "visibility": null,
            "width": null
          }
        },
        "5090261b454646fbbaa31f325500e538": {
          "model_module": "@jupyter-widgets/controls",
          "model_module_version": "1.5.0",
          "model_name": "ProgressStyleModel",
          "state": {
            "_model_module": "@jupyter-widgets/controls",
            "_model_module_version": "1.5.0",
            "_model_name": "ProgressStyleModel",
            "_view_count": null,
            "_view_module": "@jupyter-widgets/base",
            "_view_module_version": "1.2.0",
            "_view_name": "StyleView",
            "bar_color": null,
            "description_width": ""
          }
        },
        "52ec216867994b3190961c337ad80a07": {
          "model_module": "@jupyter-widgets/base",
          "model_module_version": "1.2.0",
          "model_name": "LayoutModel",
          "state": {
            "_model_module": "@jupyter-widgets/base",
            "_model_module_version": "1.2.0",
            "_model_name": "LayoutModel",
            "_view_count": null,
            "_view_module": "@jupyter-widgets/base",
            "_view_module_version": "1.2.0",
            "_view_name": "LayoutView",
            "align_content": null,
            "align_items": null,
            "align_self": null,
            "border": null,
            "bottom": null,
            "display": null,
            "flex": null,
            "flex_flow": null,
            "grid_area": null,
            "grid_auto_columns": null,
            "grid_auto_flow": null,
            "grid_auto_rows": null,
            "grid_column": null,
            "grid_gap": null,
            "grid_row": null,
            "grid_template_areas": null,
            "grid_template_columns": null,
            "grid_template_rows": null,
            "height": null,
            "justify_content": null,
            "justify_items": null,
            "left": null,
            "margin": null,
            "max_height": null,
            "max_width": null,
            "min_height": null,
            "min_width": null,
            "object_fit": null,
            "object_position": null,
            "order": null,
            "overflow": null,
            "overflow_x": null,
            "overflow_y": null,
            "padding": null,
            "right": null,
            "top": null,
            "visibility": null,
            "width": null
          }
        },
        "588507a5aa4d4cf99f970fe80e9c5def": {
          "model_module": "@jupyter-widgets/base",
          "model_module_version": "1.2.0",
          "model_name": "LayoutModel",
          "state": {
            "_model_module": "@jupyter-widgets/base",
            "_model_module_version": "1.2.0",
            "_model_name": "LayoutModel",
            "_view_count": null,
            "_view_module": "@jupyter-widgets/base",
            "_view_module_version": "1.2.0",
            "_view_name": "LayoutView",
            "align_content": null,
            "align_items": null,
            "align_self": null,
            "border": null,
            "bottom": null,
            "display": null,
            "flex": null,
            "flex_flow": null,
            "grid_area": null,
            "grid_auto_columns": null,
            "grid_auto_flow": null,
            "grid_auto_rows": null,
            "grid_column": null,
            "grid_gap": null,
            "grid_row": null,
            "grid_template_areas": null,
            "grid_template_columns": null,
            "grid_template_rows": null,
            "height": null,
            "justify_content": null,
            "justify_items": null,
            "left": null,
            "margin": null,
            "max_height": null,
            "max_width": null,
            "min_height": null,
            "min_width": null,
            "object_fit": null,
            "object_position": null,
            "order": null,
            "overflow": null,
            "overflow_x": null,
            "overflow_y": null,
            "padding": null,
            "right": null,
            "top": null,
            "visibility": null,
            "width": null
          }
        },
        "58f2cf8ca6ce4dc3b3a4ebaa75e39941": {
          "model_module": "@jupyter-widgets/base",
          "model_module_version": "1.2.0",
          "model_name": "LayoutModel",
          "state": {
            "_model_module": "@jupyter-widgets/base",
            "_model_module_version": "1.2.0",
            "_model_name": "LayoutModel",
            "_view_count": null,
            "_view_module": "@jupyter-widgets/base",
            "_view_module_version": "1.2.0",
            "_view_name": "LayoutView",
            "align_content": null,
            "align_items": null,
            "align_self": null,
            "border": null,
            "bottom": null,
            "display": null,
            "flex": null,
            "flex_flow": null,
            "grid_area": null,
            "grid_auto_columns": null,
            "grid_auto_flow": null,
            "grid_auto_rows": null,
            "grid_column": null,
            "grid_gap": null,
            "grid_row": null,
            "grid_template_areas": null,
            "grid_template_columns": null,
            "grid_template_rows": null,
            "height": null,
            "justify_content": null,
            "justify_items": null,
            "left": null,
            "margin": null,
            "max_height": null,
            "max_width": null,
            "min_height": null,
            "min_width": null,
            "object_fit": null,
            "object_position": null,
            "order": null,
            "overflow": null,
            "overflow_x": null,
            "overflow_y": null,
            "padding": null,
            "right": null,
            "top": null,
            "visibility": null,
            "width": null
          }
        },
        "5a30ec1f79784ac4b49dca921a5317ea": {
          "model_module": "@jupyter-widgets/base",
          "model_module_version": "1.2.0",
          "model_name": "LayoutModel",
          "state": {
            "_model_module": "@jupyter-widgets/base",
            "_model_module_version": "1.2.0",
            "_model_name": "LayoutModel",
            "_view_count": null,
            "_view_module": "@jupyter-widgets/base",
            "_view_module_version": "1.2.0",
            "_view_name": "LayoutView",
            "align_content": null,
            "align_items": null,
            "align_self": null,
            "border": null,
            "bottom": null,
            "display": null,
            "flex": null,
            "flex_flow": null,
            "grid_area": null,
            "grid_auto_columns": null,
            "grid_auto_flow": null,
            "grid_auto_rows": null,
            "grid_column": null,
            "grid_gap": null,
            "grid_row": null,
            "grid_template_areas": null,
            "grid_template_columns": null,
            "grid_template_rows": null,
            "height": null,
            "justify_content": null,
            "justify_items": null,
            "left": null,
            "margin": null,
            "max_height": null,
            "max_width": null,
            "min_height": null,
            "min_width": null,
            "object_fit": null,
            "object_position": null,
            "order": null,
            "overflow": null,
            "overflow_x": null,
            "overflow_y": null,
            "padding": null,
            "right": null,
            "top": null,
            "visibility": null,
            "width": null
          }
        },
        "5c3797e191404e35a783cc0aaafa17fb": {
          "model_module": "@jupyter-widgets/base",
          "model_module_version": "1.2.0",
          "model_name": "LayoutModel",
          "state": {
            "_model_module": "@jupyter-widgets/base",
            "_model_module_version": "1.2.0",
            "_model_name": "LayoutModel",
            "_view_count": null,
            "_view_module": "@jupyter-widgets/base",
            "_view_module_version": "1.2.0",
            "_view_name": "LayoutView",
            "align_content": null,
            "align_items": null,
            "align_self": null,
            "border": null,
            "bottom": null,
            "display": null,
            "flex": null,
            "flex_flow": null,
            "grid_area": null,
            "grid_auto_columns": null,
            "grid_auto_flow": null,
            "grid_auto_rows": null,
            "grid_column": null,
            "grid_gap": null,
            "grid_row": null,
            "grid_template_areas": null,
            "grid_template_columns": null,
            "grid_template_rows": null,
            "height": null,
            "justify_content": null,
            "justify_items": null,
            "left": null,
            "margin": null,
            "max_height": null,
            "max_width": null,
            "min_height": null,
            "min_width": null,
            "object_fit": null,
            "object_position": null,
            "order": null,
            "overflow": null,
            "overflow_x": null,
            "overflow_y": null,
            "padding": null,
            "right": null,
            "top": null,
            "visibility": null,
            "width": null
          }
        },
        "5cb12feac0cc41ad96d708ab668609f8": {
          "model_module": "@jupyter-widgets/base",
          "model_module_version": "1.2.0",
          "model_name": "LayoutModel",
          "state": {
            "_model_module": "@jupyter-widgets/base",
            "_model_module_version": "1.2.0",
            "_model_name": "LayoutModel",
            "_view_count": null,
            "_view_module": "@jupyter-widgets/base",
            "_view_module_version": "1.2.0",
            "_view_name": "LayoutView",
            "align_content": null,
            "align_items": null,
            "align_self": null,
            "border": null,
            "bottom": null,
            "display": null,
            "flex": null,
            "flex_flow": null,
            "grid_area": null,
            "grid_auto_columns": null,
            "grid_auto_flow": null,
            "grid_auto_rows": null,
            "grid_column": null,
            "grid_gap": null,
            "grid_row": null,
            "grid_template_areas": null,
            "grid_template_columns": null,
            "grid_template_rows": null,
            "height": null,
            "justify_content": null,
            "justify_items": null,
            "left": null,
            "margin": null,
            "max_height": null,
            "max_width": null,
            "min_height": null,
            "min_width": null,
            "object_fit": null,
            "object_position": null,
            "order": null,
            "overflow": null,
            "overflow_x": null,
            "overflow_y": null,
            "padding": null,
            "right": null,
            "top": null,
            "visibility": null,
            "width": null
          }
        },
        "5d2c30d924a14cd09ae67c940ce14401": {
          "model_module": "@jupyter-widgets/controls",
          "model_module_version": "1.5.0",
          "model_name": "HTMLModel",
          "state": {
            "_dom_classes": [],
            "_model_module": "@jupyter-widgets/controls",
            "_model_module_version": "1.5.0",
            "_model_name": "HTMLModel",
            "_view_count": null,
            "_view_module": "@jupyter-widgets/controls",
            "_view_module_version": "1.5.0",
            "_view_name": "HTMLView",
            "description": "",
            "description_tooltip": null,
            "layout": "IPY_MODEL_0a0c5994d7a2468b84ac14b5cb78c386",
            "placeholder": "​",
            "style": "IPY_MODEL_10dbcda02c5243c896be198e3f830c3d",
            "value": "Truncating train dataset: 100%"
          }
        },
        "5e1a1b9dfa854d96a7d58c685fb99819": {
          "model_module": "@jupyter-widgets/base",
          "model_module_version": "1.2.0",
          "model_name": "LayoutModel",
          "state": {
            "_model_module": "@jupyter-widgets/base",
            "_model_module_version": "1.2.0",
            "_model_name": "LayoutModel",
            "_view_count": null,
            "_view_module": "@jupyter-widgets/base",
            "_view_module_version": "1.2.0",
            "_view_name": "LayoutView",
            "align_content": null,
            "align_items": null,
            "align_self": null,
            "border": null,
            "bottom": null,
            "display": null,
            "flex": null,
            "flex_flow": null,
            "grid_area": null,
            "grid_auto_columns": null,
            "grid_auto_flow": null,
            "grid_auto_rows": null,
            "grid_column": null,
            "grid_gap": null,
            "grid_row": null,
            "grid_template_areas": null,
            "grid_template_columns": null,
            "grid_template_rows": null,
            "height": null,
            "justify_content": null,
            "justify_items": null,
            "left": null,
            "margin": null,
            "max_height": null,
            "max_width": null,
            "min_height": null,
            "min_width": null,
            "object_fit": null,
            "object_position": null,
            "order": null,
            "overflow": null,
            "overflow_x": null,
            "overflow_y": null,
            "padding": null,
            "right": null,
            "top": null,
            "visibility": null,
            "width": "20px"
          }
        },
        "61c5269c316545d1a8493208d7915a3d": {
          "model_module": "@jupyter-widgets/controls",
          "model_module_version": "1.5.0",
          "model_name": "HTMLModel",
          "state": {
            "_dom_classes": [],
            "_model_module": "@jupyter-widgets/controls",
            "_model_module_version": "1.5.0",
            "_model_name": "HTMLModel",
            "_view_count": null,
            "_view_module": "@jupyter-widgets/controls",
            "_view_module_version": "1.5.0",
            "_view_name": "HTMLView",
            "description": "",
            "description_tooltip": null,
            "layout": "IPY_MODEL_588507a5aa4d4cf99f970fe80e9c5def",
            "placeholder": "​",
            "style": "IPY_MODEL_47e1c07b9a4d4a30b5ca81480564ebb4",
            "value": "Generating train split: "
          }
        },
        "6c92b792e3244b7fb97552ac2bc04214": {
          "model_module": "@jupyter-widgets/controls",
          "model_module_version": "1.5.0",
          "model_name": "FloatProgressModel",
          "state": {
            "_dom_classes": [],
            "_model_module": "@jupyter-widgets/controls",
            "_model_module_version": "1.5.0",
            "_model_name": "FloatProgressModel",
            "_view_count": null,
            "_view_module": "@jupyter-widgets/controls",
            "_view_module_version": "1.5.0",
            "_view_name": "ProgressView",
            "bar_style": "success",
            "description": "",
            "description_tooltip": null,
            "layout": "IPY_MODEL_f8eb5e48aa0849ffbf44f8958ea8fe63",
            "max": 609,
            "min": 0,
            "orientation": "horizontal",
            "style": "IPY_MODEL_95918f188a474274905c68dfff78445b",
            "value": 609
          }
        },
        "6d8485f548a94efbb53bf0508c4563bf": {
          "model_module": "@jupyter-widgets/controls",
          "model_module_version": "1.5.0",
          "model_name": "DescriptionStyleModel",
          "state": {
            "_model_module": "@jupyter-widgets/controls",
            "_model_module_version": "1.5.0",
            "_model_name": "DescriptionStyleModel",
            "_view_count": null,
            "_view_module": "@jupyter-widgets/base",
            "_view_module_version": "1.2.0",
            "_view_name": "StyleView",
            "description_width": ""
          }
        },
        "6e25f2e40d174e18875d103d923d931e": {
          "model_module": "@jupyter-widgets/controls",
          "model_module_version": "1.5.0",
          "model_name": "DescriptionStyleModel",
          "state": {
            "_model_module": "@jupyter-widgets/controls",
            "_model_module_version": "1.5.0",
            "_model_name": "DescriptionStyleModel",
            "_view_count": null,
            "_view_module": "@jupyter-widgets/base",
            "_view_module_version": "1.2.0",
            "_view_name": "StyleView",
            "description_width": ""
          }
        },
        "6f8a1c6075a44a349367522e37cc0d22": {
          "model_module": "@jupyter-widgets/controls",
          "model_module_version": "1.5.0",
          "model_name": "DescriptionStyleModel",
          "state": {
            "_model_module": "@jupyter-widgets/controls",
            "_model_module_version": "1.5.0",
            "_model_name": "DescriptionStyleModel",
            "_view_count": null,
            "_view_module": "@jupyter-widgets/base",
            "_view_module_version": "1.2.0",
            "_view_name": "StyleView",
            "description_width": ""
          }
        },
        "7707d56b87fe4e09821845d9b8bb72ed": {
          "model_module": "@jupyter-widgets/controls",
          "model_module_version": "1.5.0",
          "model_name": "HTMLModel",
          "state": {
            "_dom_classes": [],
            "_model_module": "@jupyter-widgets/controls",
            "_model_module_version": "1.5.0",
            "_model_name": "HTMLModel",
            "_view_count": null,
            "_view_module": "@jupyter-widgets/controls",
            "_view_module_version": "1.5.0",
            "_view_name": "HTMLView",
            "description": "",
            "description_tooltip": null,
            "layout": "IPY_MODEL_0e249f8a3b224bb3a38c429ab6608d8a",
            "placeholder": "​",
            "style": "IPY_MODEL_6d8485f548a94efbb53bf0508c4563bf",
            "value": " 609/0 [00:00&lt;00:00, 18075.31 examples/s]"
          }
        },
        "7f564c928fe548d08c7caf02cbc1c136": {
          "model_module": "@jupyter-widgets/controls",
          "model_module_version": "1.5.0",
          "model_name": "FloatProgressModel",
          "state": {
            "_dom_classes": [],
            "_model_module": "@jupyter-widgets/controls",
            "_model_module_version": "1.5.0",
            "_model_name": "FloatProgressModel",
            "_view_count": null,
            "_view_module": "@jupyter-widgets/controls",
            "_view_module_version": "1.5.0",
            "_view_name": "ProgressView",
            "bar_style": "success",
            "description": "",
            "description_tooltip": null,
            "layout": "IPY_MODEL_085733b951cc46eea4d5b0b7c77f2f17",
            "max": 2,
            "min": 0,
            "orientation": "horizontal",
            "style": "IPY_MODEL_2f5a46ad8f1244fab291135e19e86c12",
            "value": 2
          }
        },
        "85a62fcfc31d4469b411fcc6460a6595": {
          "model_module": "@jupyter-widgets/controls",
          "model_module_version": "1.5.0",
          "model_name": "HTMLModel",
          "state": {
            "_dom_classes": [],
            "_model_module": "@jupyter-widgets/controls",
            "_model_module_version": "1.5.0",
            "_model_name": "HTMLModel",
            "_view_count": null,
            "_view_module": "@jupyter-widgets/controls",
            "_view_module_version": "1.5.0",
            "_view_name": "HTMLView",
            "description": "",
            "description_tooltip": null,
            "layout": "IPY_MODEL_af5fe65e15544d0e9127e94988da5a1b",
            "placeholder": "​",
            "style": "IPY_MODEL_e999c06476c145f0aef38a8224bf42f2",
            "value": "Map: 100%"
          }
        },
        "868d5112edfe4c6e9fa694d9f658df3b": {
          "model_module": "@jupyter-widgets/controls",
          "model_module_version": "1.5.0",
          "model_name": "HTMLModel",
          "state": {
            "_dom_classes": [],
            "_model_module": "@jupyter-widgets/controls",
            "_model_module_version": "1.5.0",
            "_model_name": "HTMLModel",
            "_view_count": null,
            "_view_module": "@jupyter-widgets/controls",
            "_view_module_version": "1.5.0",
            "_view_name": "HTMLView",
            "description": "",
            "description_tooltip": null,
            "layout": "IPY_MODEL_34aaf5137ad3472c8a362f647a1e9dbf",
            "placeholder": "​",
            "style": "IPY_MODEL_276e7933530b441ebb23f3f5d8ceb15b",
            "value": "Applying chat template to train dataset: 100%"
          }
        },
        "8ad2366e934f40a4bebac9fbdf8f2382": {
          "model_module": "@jupyter-widgets/controls",
          "model_module_version": "1.5.0",
          "model_name": "FloatProgressModel",
          "state": {
            "_dom_classes": [],
            "_model_module": "@jupyter-widgets/controls",
            "_model_module_version": "1.5.0",
            "_model_name": "FloatProgressModel",
            "_view_count": null,
            "_view_module": "@jupyter-widgets/controls",
            "_view_module_version": "1.5.0",
            "_view_name": "ProgressView",
            "bar_style": "success",
            "description": "",
            "description_tooltip": null,
            "layout": "IPY_MODEL_b421d749fe6d4679a3eccfefd595be0a",
            "max": 609,
            "min": 0,
            "orientation": "horizontal",
            "style": "IPY_MODEL_1acd1f5d5c1b4e53bc945f9c9c96f0f1",
            "value": 609
          }
        },
        "8d431db346764b398a45e1fa560ba159": {
          "model_module": "@jupyter-widgets/controls",
          "model_module_version": "1.5.0",
          "model_name": "HTMLModel",
          "state": {
            "_dom_classes": [],
            "_model_module": "@jupyter-widgets/controls",
            "_model_module_version": "1.5.0",
            "_model_name": "HTMLModel",
            "_view_count": null,
            "_view_module": "@jupyter-widgets/controls",
            "_view_module_version": "1.5.0",
            "_view_name": "HTMLView",
            "description": "",
            "description_tooltip": null,
            "layout": "IPY_MODEL_5a30ec1f79784ac4b49dca921a5317ea",
            "placeholder": "​",
            "style": "IPY_MODEL_d3e5d7c50368427694043d211d44061e",
            "value": "Loading checkpoint shards: 100%"
          }
        },
        "9033854659fd4f4d824765cb5495c390": {
          "model_module": "@jupyter-widgets/base",
          "model_module_version": "1.2.0",
          "model_name": "LayoutModel",
          "state": {
            "_model_module": "@jupyter-widgets/base",
            "_model_module_version": "1.2.0",
            "_model_name": "LayoutModel",
            "_view_count": null,
            "_view_module": "@jupyter-widgets/base",
            "_view_module_version": "1.2.0",
            "_view_name": "LayoutView",
            "align_content": null,
            "align_items": null,
            "align_self": null,
            "border": null,
            "bottom": null,
            "display": null,
            "flex": null,
            "flex_flow": null,
            "grid_area": null,
            "grid_auto_columns": null,
            "grid_auto_flow": null,
            "grid_auto_rows": null,
            "grid_column": null,
            "grid_gap": null,
            "grid_row": null,
            "grid_template_areas": null,
            "grid_template_columns": null,
            "grid_template_rows": null,
            "height": null,
            "justify_content": null,
            "justify_items": null,
            "left": null,
            "margin": null,
            "max_height": null,
            "max_width": null,
            "min_height": null,
            "min_width": null,
            "object_fit": null,
            "object_position": null,
            "order": null,
            "overflow": null,
            "overflow_x": null,
            "overflow_y": null,
            "padding": null,
            "right": null,
            "top": null,
            "visibility": null,
            "width": null
          }
        },
        "9373b72b120f40b087cf9e0126be3f1b": {
          "model_module": "@jupyter-widgets/controls",
          "model_module_version": "1.5.0",
          "model_name": "HBoxModel",
          "state": {
            "_dom_classes": [],
            "_model_module": "@jupyter-widgets/controls",
            "_model_module_version": "1.5.0",
            "_model_name": "HBoxModel",
            "_view_count": null,
            "_view_module": "@jupyter-widgets/controls",
            "_view_module_version": "1.5.0",
            "_view_name": "HBoxView",
            "box_style": "",
            "children": [
              "IPY_MODEL_61c5269c316545d1a8493208d7915a3d",
              "IPY_MODEL_d187b49bc0884b968dd606f6cd3a96fa",
              "IPY_MODEL_7707d56b87fe4e09821845d9b8bb72ed"
            ],
            "layout": "IPY_MODEL_21aa4faeebc64907b59a2ec792d7c77f"
          }
        },
        "95918f188a474274905c68dfff78445b": {
          "model_module": "@jupyter-widgets/controls",
          "model_module_version": "1.5.0",
          "model_name": "ProgressStyleModel",
          "state": {
            "_model_module": "@jupyter-widgets/controls",
            "_model_module_version": "1.5.0",
            "_model_name": "ProgressStyleModel",
            "_view_count": null,
            "_view_module": "@jupyter-widgets/base",
            "_view_module_version": "1.2.0",
            "_view_name": "StyleView",
            "bar_color": null,
            "description_width": ""
          }
        },
        "9a2178d4929745a6aa60e006f75e5818": {
          "model_module": "@jupyter-widgets/base",
          "model_module_version": "1.2.0",
          "model_name": "LayoutModel",
          "state": {
            "_model_module": "@jupyter-widgets/base",
            "_model_module_version": "1.2.0",
            "_model_name": "LayoutModel",
            "_view_count": null,
            "_view_module": "@jupyter-widgets/base",
            "_view_module_version": "1.2.0",
            "_view_name": "LayoutView",
            "align_content": null,
            "align_items": null,
            "align_self": null,
            "border": null,
            "bottom": null,
            "display": null,
            "flex": null,
            "flex_flow": null,
            "grid_area": null,
            "grid_auto_columns": null,
            "grid_auto_flow": null,
            "grid_auto_rows": null,
            "grid_column": null,
            "grid_gap": null,
            "grid_row": null,
            "grid_template_areas": null,
            "grid_template_columns": null,
            "grid_template_rows": null,
            "height": null,
            "justify_content": null,
            "justify_items": null,
            "left": null,
            "margin": null,
            "max_height": null,
            "max_width": null,
            "min_height": null,
            "min_width": null,
            "object_fit": null,
            "object_position": null,
            "order": null,
            "overflow": null,
            "overflow_x": null,
            "overflow_y": null,
            "padding": null,
            "right": null,
            "top": null,
            "visibility": null,
            "width": null
          }
        },
        "9a652ea1d9f74de7b285244360138563": {
          "model_module": "@jupyter-widgets/controls",
          "model_module_version": "1.5.0",
          "model_name": "HTMLModel",
          "state": {
            "_dom_classes": [],
            "_model_module": "@jupyter-widgets/controls",
            "_model_module_version": "1.5.0",
            "_model_name": "HTMLModel",
            "_view_count": null,
            "_view_module": "@jupyter-widgets/controls",
            "_view_module_version": "1.5.0",
            "_view_name": "HTMLView",
            "description": "",
            "description_tooltip": null,
            "layout": "IPY_MODEL_52ec216867994b3190961c337ad80a07",
            "placeholder": "​",
            "style": "IPY_MODEL_2962617eafba430d8d38961f30b298ce",
            "value": " 609/609 [00:00&lt;00:00, 14999.18 examples/s]"
          }
        },
        "9b9bd3cca53047698422f6ec3306771e": {
          "model_module": "@jupyter-widgets/controls",
          "model_module_version": "1.5.0",
          "model_name": "HBoxModel",
          "state": {
            "_dom_classes": [],
            "_model_module": "@jupyter-widgets/controls",
            "_model_module_version": "1.5.0",
            "_model_name": "HBoxModel",
            "_view_count": null,
            "_view_module": "@jupyter-widgets/controls",
            "_view_module_version": "1.5.0",
            "_view_name": "HBoxView",
            "box_style": "",
            "children": [
              "IPY_MODEL_5d2c30d924a14cd09ae67c940ce14401",
              "IPY_MODEL_cc515a6cb9e54fc18a7fa0990cba787b",
              "IPY_MODEL_0a98a2d15b804f3b91257bafd127e5c0"
            ],
            "layout": "IPY_MODEL_c7a2ad95c8f44916844ae0ed2531034b"
          }
        },
        "9e6d96e8ed0f4c1cb26c0eca8abbd979": {
          "model_module": "@jupyter-widgets/controls",
          "model_module_version": "1.5.0",
          "model_name": "DescriptionStyleModel",
          "state": {
            "_model_module": "@jupyter-widgets/controls",
            "_model_module_version": "1.5.0",
            "_model_name": "DescriptionStyleModel",
            "_view_count": null,
            "_view_module": "@jupyter-widgets/base",
            "_view_module_version": "1.2.0",
            "_view_name": "StyleView",
            "description_width": ""
          }
        },
        "a97f8d8440924ce99afd3c3049484416": {
          "model_module": "@jupyter-widgets/base",
          "model_module_version": "1.2.0",
          "model_name": "LayoutModel",
          "state": {
            "_model_module": "@jupyter-widgets/base",
            "_model_module_version": "1.2.0",
            "_model_name": "LayoutModel",
            "_view_count": null,
            "_view_module": "@jupyter-widgets/base",
            "_view_module_version": "1.2.0",
            "_view_name": "LayoutView",
            "align_content": null,
            "align_items": null,
            "align_self": null,
            "border": null,
            "bottom": null,
            "display": null,
            "flex": null,
            "flex_flow": null,
            "grid_area": null,
            "grid_auto_columns": null,
            "grid_auto_flow": null,
            "grid_auto_rows": null,
            "grid_column": null,
            "grid_gap": null,
            "grid_row": null,
            "grid_template_areas": null,
            "grid_template_columns": null,
            "grid_template_rows": null,
            "height": null,
            "justify_content": null,
            "justify_items": null,
            "left": null,
            "margin": null,
            "max_height": null,
            "max_width": null,
            "min_height": null,
            "min_width": null,
            "object_fit": null,
            "object_position": null,
            "order": null,
            "overflow": null,
            "overflow_x": null,
            "overflow_y": null,
            "padding": null,
            "right": null,
            "top": null,
            "visibility": null,
            "width": null
          }
        },
        "ac589101fa514a08a1871475f8b42396": {
          "model_module": "@jupyter-widgets/controls",
          "model_module_version": "1.5.0",
          "model_name": "ProgressStyleModel",
          "state": {
            "_model_module": "@jupyter-widgets/controls",
            "_model_module_version": "1.5.0",
            "_model_name": "ProgressStyleModel",
            "_view_count": null,
            "_view_module": "@jupyter-widgets/base",
            "_view_module_version": "1.2.0",
            "_view_name": "StyleView",
            "bar_color": null,
            "description_width": ""
          }
        },
        "af5fe65e15544d0e9127e94988da5a1b": {
          "model_module": "@jupyter-widgets/base",
          "model_module_version": "1.2.0",
          "model_name": "LayoutModel",
          "state": {
            "_model_module": "@jupyter-widgets/base",
            "_model_module_version": "1.2.0",
            "_model_name": "LayoutModel",
            "_view_count": null,
            "_view_module": "@jupyter-widgets/base",
            "_view_module_version": "1.2.0",
            "_view_name": "LayoutView",
            "align_content": null,
            "align_items": null,
            "align_self": null,
            "border": null,
            "bottom": null,
            "display": null,
            "flex": null,
            "flex_flow": null,
            "grid_area": null,
            "grid_auto_columns": null,
            "grid_auto_flow": null,
            "grid_auto_rows": null,
            "grid_column": null,
            "grid_gap": null,
            "grid_row": null,
            "grid_template_areas": null,
            "grid_template_columns": null,
            "grid_template_rows": null,
            "height": null,
            "justify_content": null,
            "justify_items": null,
            "left": null,
            "margin": null,
            "max_height": null,
            "max_width": null,
            "min_height": null,
            "min_width": null,
            "object_fit": null,
            "object_position": null,
            "order": null,
            "overflow": null,
            "overflow_x": null,
            "overflow_y": null,
            "padding": null,
            "right": null,
            "top": null,
            "visibility": null,
            "width": null
          }
        },
        "b0789a2bbaa8446796288c9807dce98d": {
          "model_module": "@jupyter-widgets/controls",
          "model_module_version": "1.5.0",
          "model_name": "DescriptionStyleModel",
          "state": {
            "_model_module": "@jupyter-widgets/controls",
            "_model_module_version": "1.5.0",
            "_model_name": "DescriptionStyleModel",
            "_view_count": null,
            "_view_module": "@jupyter-widgets/base",
            "_view_module_version": "1.2.0",
            "_view_name": "StyleView",
            "description_width": ""
          }
        },
        "b421d749fe6d4679a3eccfefd595be0a": {
          "model_module": "@jupyter-widgets/base",
          "model_module_version": "1.2.0",
          "model_name": "LayoutModel",
          "state": {
            "_model_module": "@jupyter-widgets/base",
            "_model_module_version": "1.2.0",
            "_model_name": "LayoutModel",
            "_view_count": null,
            "_view_module": "@jupyter-widgets/base",
            "_view_module_version": "1.2.0",
            "_view_name": "LayoutView",
            "align_content": null,
            "align_items": null,
            "align_self": null,
            "border": null,
            "bottom": null,
            "display": null,
            "flex": null,
            "flex_flow": null,
            "grid_area": null,
            "grid_auto_columns": null,
            "grid_auto_flow": null,
            "grid_auto_rows": null,
            "grid_column": null,
            "grid_gap": null,
            "grid_row": null,
            "grid_template_areas": null,
            "grid_template_columns": null,
            "grid_template_rows": null,
            "height": null,
            "justify_content": null,
            "justify_items": null,
            "left": null,
            "margin": null,
            "max_height": null,
            "max_width": null,
            "min_height": null,
            "min_width": null,
            "object_fit": null,
            "object_position": null,
            "order": null,
            "overflow": null,
            "overflow_x": null,
            "overflow_y": null,
            "padding": null,
            "right": null,
            "top": null,
            "visibility": null,
            "width": null
          }
        },
        "b977d1d952a34003a957246d3a355a84": {
          "model_module": "@jupyter-widgets/controls",
          "model_module_version": "1.5.0",
          "model_name": "HBoxModel",
          "state": {
            "_dom_classes": [],
            "_model_module": "@jupyter-widgets/controls",
            "_model_module_version": "1.5.0",
            "_model_name": "HBoxModel",
            "_view_count": null,
            "_view_module": "@jupyter-widgets/controls",
            "_view_module_version": "1.5.0",
            "_view_name": "HBoxView",
            "box_style": "",
            "children": [
              "IPY_MODEL_fa417e62ddb648f9b3270898f4fd02cb",
              "IPY_MODEL_6c92b792e3244b7fb97552ac2bc04214",
              "IPY_MODEL_2a2d75ccbd1a47a3b7d39e2152e5df94"
            ],
            "layout": "IPY_MODEL_3213ed10e44742a388d8fe40735920f3"
          }
        },
        "c34c67261a7e4e2fa87419f3da4ebb74": {
          "model_module": "@jupyter-widgets/base",
          "model_module_version": "1.2.0",
          "model_name": "LayoutModel",
          "state": {
            "_model_module": "@jupyter-widgets/base",
            "_model_module_version": "1.2.0",
            "_model_name": "LayoutModel",
            "_view_count": null,
            "_view_module": "@jupyter-widgets/base",
            "_view_module_version": "1.2.0",
            "_view_name": "LayoutView",
            "align_content": null,
            "align_items": null,
            "align_self": null,
            "border": null,
            "bottom": null,
            "display": null,
            "flex": null,
            "flex_flow": null,
            "grid_area": null,
            "grid_auto_columns": null,
            "grid_auto_flow": null,
            "grid_auto_rows": null,
            "grid_column": null,
            "grid_gap": null,
            "grid_row": null,
            "grid_template_areas": null,
            "grid_template_columns": null,
            "grid_template_rows": null,
            "height": null,
            "justify_content": null,
            "justify_items": null,
            "left": null,
            "margin": null,
            "max_height": null,
            "max_width": null,
            "min_height": null,
            "min_width": null,
            "object_fit": null,
            "object_position": null,
            "order": null,
            "overflow": null,
            "overflow_x": null,
            "overflow_y": null,
            "padding": null,
            "right": null,
            "top": null,
            "visibility": null,
            "width": null
          }
        },
        "c3598eceb20d45709565ca9641e07080": {
          "model_module": "@jupyter-widgets/controls",
          "model_module_version": "1.5.0",
          "model_name": "DescriptionStyleModel",
          "state": {
            "_model_module": "@jupyter-widgets/controls",
            "_model_module_version": "1.5.0",
            "_model_name": "DescriptionStyleModel",
            "_view_count": null,
            "_view_module": "@jupyter-widgets/base",
            "_view_module_version": "1.2.0",
            "_view_name": "StyleView",
            "description_width": ""
          }
        },
        "c69e97b0a6d94a28874eadca219ff4c1": {
          "model_module": "@jupyter-widgets/controls",
          "model_module_version": "1.5.0",
          "model_name": "FloatProgressModel",
          "state": {
            "_dom_classes": [],
            "_model_module": "@jupyter-widgets/controls",
            "_model_module_version": "1.5.0",
            "_model_name": "FloatProgressModel",
            "_view_count": null,
            "_view_module": "@jupyter-widgets/controls",
            "_view_module_version": "1.5.0",
            "_view_name": "ProgressView",
            "bar_style": "success",
            "description": "",
            "description_tooltip": null,
            "layout": "IPY_MODEL_e6fac80218ab47d2a7e96fdb62428685",
            "max": 609,
            "min": 0,
            "orientation": "horizontal",
            "style": "IPY_MODEL_5090261b454646fbbaa31f325500e538",
            "value": 609
          }
        },
        "c7a2ad95c8f44916844ae0ed2531034b": {
          "model_module": "@jupyter-widgets/base",
          "model_module_version": "1.2.0",
          "model_name": "LayoutModel",
          "state": {
            "_model_module": "@jupyter-widgets/base",
            "_model_module_version": "1.2.0",
            "_model_name": "LayoutModel",
            "_view_count": null,
            "_view_module": "@jupyter-widgets/base",
            "_view_module_version": "1.2.0",
            "_view_name": "LayoutView",
            "align_content": null,
            "align_items": null,
            "align_self": null,
            "border": null,
            "bottom": null,
            "display": null,
            "flex": null,
            "flex_flow": null,
            "grid_area": null,
            "grid_auto_columns": null,
            "grid_auto_flow": null,
            "grid_auto_rows": null,
            "grid_column": null,
            "grid_gap": null,
            "grid_row": null,
            "grid_template_areas": null,
            "grid_template_columns": null,
            "grid_template_rows": null,
            "height": null,
            "justify_content": null,
            "justify_items": null,
            "left": null,
            "margin": null,
            "max_height": null,
            "max_width": null,
            "min_height": null,
            "min_width": null,
            "object_fit": null,
            "object_position": null,
            "order": null,
            "overflow": null,
            "overflow_x": null,
            "overflow_y": null,
            "padding": null,
            "right": null,
            "top": null,
            "visibility": null,
            "width": null
          }
        },
        "c80a748f82d647249189ce9901addc97": {
          "model_module": "@jupyter-widgets/controls",
          "model_module_version": "1.5.0",
          "model_name": "ProgressStyleModel",
          "state": {
            "_model_module": "@jupyter-widgets/controls",
            "_model_module_version": "1.5.0",
            "_model_name": "ProgressStyleModel",
            "_view_count": null,
            "_view_module": "@jupyter-widgets/base",
            "_view_module_version": "1.2.0",
            "_view_name": "StyleView",
            "bar_color": null,
            "description_width": ""
          }
        },
        "c85959e5eefb47a798545e630a1eafc0": {
          "model_module": "@jupyter-widgets/base",
          "model_module_version": "1.2.0",
          "model_name": "LayoutModel",
          "state": {
            "_model_module": "@jupyter-widgets/base",
            "_model_module_version": "1.2.0",
            "_model_name": "LayoutModel",
            "_view_count": null,
            "_view_module": "@jupyter-widgets/base",
            "_view_module_version": "1.2.0",
            "_view_name": "LayoutView",
            "align_content": null,
            "align_items": null,
            "align_self": null,
            "border": null,
            "bottom": null,
            "display": null,
            "flex": null,
            "flex_flow": null,
            "grid_area": null,
            "grid_auto_columns": null,
            "grid_auto_flow": null,
            "grid_auto_rows": null,
            "grid_column": null,
            "grid_gap": null,
            "grid_row": null,
            "grid_template_areas": null,
            "grid_template_columns": null,
            "grid_template_rows": null,
            "height": null,
            "justify_content": null,
            "justify_items": null,
            "left": null,
            "margin": null,
            "max_height": null,
            "max_width": null,
            "min_height": null,
            "min_width": null,
            "object_fit": null,
            "object_position": null,
            "order": null,
            "overflow": null,
            "overflow_x": null,
            "overflow_y": null,
            "padding": null,
            "right": null,
            "top": null,
            "visibility": null,
            "width": null
          }
        },
        "cc515a6cb9e54fc18a7fa0990cba787b": {
          "model_module": "@jupyter-widgets/controls",
          "model_module_version": "1.5.0",
          "model_name": "FloatProgressModel",
          "state": {
            "_dom_classes": [],
            "_model_module": "@jupyter-widgets/controls",
            "_model_module_version": "1.5.0",
            "_model_name": "FloatProgressModel",
            "_view_count": null,
            "_view_module": "@jupyter-widgets/controls",
            "_view_module_version": "1.5.0",
            "_view_name": "ProgressView",
            "bar_style": "success",
            "description": "",
            "description_tooltip": null,
            "layout": "IPY_MODEL_5c3797e191404e35a783cc0aaafa17fb",
            "max": 609,
            "min": 0,
            "orientation": "horizontal",
            "style": "IPY_MODEL_e94c69fb8ff74d0fbfec209096cd8d72",
            "value": 609
          }
        },
        "cca77bb19a274de9a847ad43e7fe0dbe": {
          "model_module": "@jupyter-widgets/controls",
          "model_module_version": "1.5.0",
          "model_name": "FloatProgressModel",
          "state": {
            "_dom_classes": [],
            "_model_module": "@jupyter-widgets/controls",
            "_model_module_version": "1.5.0",
            "_model_name": "FloatProgressModel",
            "_view_count": null,
            "_view_module": "@jupyter-widgets/controls",
            "_view_module_version": "1.5.0",
            "_view_name": "ProgressView",
            "bar_style": "success",
            "description": "",
            "description_tooltip": null,
            "layout": "IPY_MODEL_2dc0d3c02ef74f1db08527b634ff5981",
            "max": 609,
            "min": 0,
            "orientation": "horizontal",
            "style": "IPY_MODEL_ac589101fa514a08a1871475f8b42396",
            "value": 609
          }
        },
        "cd7e8616a5294f4ab96c3eae8dc635dd": {
          "model_module": "@jupyter-widgets/controls",
          "model_module_version": "1.5.0",
          "model_name": "HTMLModel",
          "state": {
            "_dom_classes": [],
            "_model_module": "@jupyter-widgets/controls",
            "_model_module_version": "1.5.0",
            "_model_name": "HTMLModel",
            "_view_count": null,
            "_view_module": "@jupyter-widgets/controls",
            "_view_module_version": "1.5.0",
            "_view_name": "HTMLView",
            "description": "",
            "description_tooltip": null,
            "layout": "IPY_MODEL_9a2178d4929745a6aa60e006f75e5818",
            "placeholder": "​",
            "style": "IPY_MODEL_c3598eceb20d45709565ca9641e07080",
            "value": " 609/609 [00:00&lt;00:00, 4885.90 examples/s]"
          }
        },
        "cf5df788bfa34e119c9316ea556722e4": {
          "model_module": "@jupyter-widgets/base",
          "model_module_version": "1.2.0",
          "model_name": "LayoutModel",
          "state": {
            "_model_module": "@jupyter-widgets/base",
            "_model_module_version": "1.2.0",
            "_model_name": "LayoutModel",
            "_view_count": null,
            "_view_module": "@jupyter-widgets/base",
            "_view_module_version": "1.2.0",
            "_view_name": "LayoutView",
            "align_content": null,
            "align_items": null,
            "align_self": null,
            "border": null,
            "bottom": null,
            "display": null,
            "flex": null,
            "flex_flow": null,
            "grid_area": null,
            "grid_auto_columns": null,
            "grid_auto_flow": null,
            "grid_auto_rows": null,
            "grid_column": null,
            "grid_gap": null,
            "grid_row": null,
            "grid_template_areas": null,
            "grid_template_columns": null,
            "grid_template_rows": null,
            "height": null,
            "justify_content": null,
            "justify_items": null,
            "left": null,
            "margin": null,
            "max_height": null,
            "max_width": null,
            "min_height": null,
            "min_width": null,
            "object_fit": null,
            "object_position": null,
            "order": null,
            "overflow": null,
            "overflow_x": null,
            "overflow_y": null,
            "padding": null,
            "right": null,
            "top": null,
            "visibility": null,
            "width": null
          }
        },
        "d183be9186d4459ca41831a8aa389f5d": {
          "model_module": "@jupyter-widgets/controls",
          "model_module_version": "1.5.0",
          "model_name": "HTMLModel",
          "state": {
            "_dom_classes": [],
            "_model_module": "@jupyter-widgets/controls",
            "_model_module_version": "1.5.0",
            "_model_name": "HTMLModel",
            "_view_count": null,
            "_view_module": "@jupyter-widgets/controls",
            "_view_module_version": "1.5.0",
            "_view_name": "HTMLView",
            "description": "",
            "description_tooltip": null,
            "layout": "IPY_MODEL_c85959e5eefb47a798545e630a1eafc0",
            "placeholder": "​",
            "style": "IPY_MODEL_6e25f2e40d174e18875d103d923d931e",
            "value": "Tokenizing train dataset: 100%"
          }
        },
        "d187b49bc0884b968dd606f6cd3a96fa": {
          "model_module": "@jupyter-widgets/controls",
          "model_module_version": "1.5.0",
          "model_name": "FloatProgressModel",
          "state": {
            "_dom_classes": [],
            "_model_module": "@jupyter-widgets/controls",
            "_model_module_version": "1.5.0",
            "_model_name": "FloatProgressModel",
            "_view_count": null,
            "_view_module": "@jupyter-widgets/controls",
            "_view_module_version": "1.5.0",
            "_view_name": "ProgressView",
            "bar_style": "success",
            "description": "",
            "description_tooltip": null,
            "layout": "IPY_MODEL_5e1a1b9dfa854d96a7d58c685fb99819",
            "max": 1,
            "min": 0,
            "orientation": "horizontal",
            "style": "IPY_MODEL_c80a748f82d647249189ce9901addc97",
            "value": 1
          }
        },
        "d2bfe6cf25d74c3780a19da615b475b4": {
          "model_module": "@jupyter-widgets/controls",
          "model_module_version": "1.5.0",
          "model_name": "ProgressStyleModel",
          "state": {
            "_model_module": "@jupyter-widgets/controls",
            "_model_module_version": "1.5.0",
            "_model_name": "ProgressStyleModel",
            "_view_count": null,
            "_view_module": "@jupyter-widgets/base",
            "_view_module_version": "1.2.0",
            "_view_name": "StyleView",
            "bar_color": null,
            "description_width": ""
          }
        },
        "d3e5d7c50368427694043d211d44061e": {
          "model_module": "@jupyter-widgets/controls",
          "model_module_version": "1.5.0",
          "model_name": "DescriptionStyleModel",
          "state": {
            "_model_module": "@jupyter-widgets/controls",
            "_model_module_version": "1.5.0",
            "_model_name": "DescriptionStyleModel",
            "_view_count": null,
            "_view_module": "@jupyter-widgets/base",
            "_view_module_version": "1.2.0",
            "_view_name": "StyleView",
            "description_width": ""
          }
        },
        "dbb6a92d58774879be1bf111df7a7869": {
          "model_module": "@jupyter-widgets/controls",
          "model_module_version": "1.5.0",
          "model_name": "DescriptionStyleModel",
          "state": {
            "_model_module": "@jupyter-widgets/controls",
            "_model_module_version": "1.5.0",
            "_model_name": "DescriptionStyleModel",
            "_view_count": null,
            "_view_module": "@jupyter-widgets/base",
            "_view_module_version": "1.2.0",
            "_view_name": "StyleView",
            "description_width": ""
          }
        },
        "e51affe9cc3c423f8bce4f40464c0694": {
          "model_module": "@jupyter-widgets/controls",
          "model_module_version": "1.5.0",
          "model_name": "DescriptionStyleModel",
          "state": {
            "_model_module": "@jupyter-widgets/controls",
            "_model_module_version": "1.5.0",
            "_model_name": "DescriptionStyleModel",
            "_view_count": null,
            "_view_module": "@jupyter-widgets/base",
            "_view_module_version": "1.2.0",
            "_view_name": "StyleView",
            "description_width": ""
          }
        },
        "e6fac80218ab47d2a7e96fdb62428685": {
          "model_module": "@jupyter-widgets/base",
          "model_module_version": "1.2.0",
          "model_name": "LayoutModel",
          "state": {
            "_model_module": "@jupyter-widgets/base",
            "_model_module_version": "1.2.0",
            "_model_name": "LayoutModel",
            "_view_count": null,
            "_view_module": "@jupyter-widgets/base",
            "_view_module_version": "1.2.0",
            "_view_name": "LayoutView",
            "align_content": null,
            "align_items": null,
            "align_self": null,
            "border": null,
            "bottom": null,
            "display": null,
            "flex": null,
            "flex_flow": null,
            "grid_area": null,
            "grid_auto_columns": null,
            "grid_auto_flow": null,
            "grid_auto_rows": null,
            "grid_column": null,
            "grid_gap": null,
            "grid_row": null,
            "grid_template_areas": null,
            "grid_template_columns": null,
            "grid_template_rows": null,
            "height": null,
            "justify_content": null,
            "justify_items": null,
            "left": null,
            "margin": null,
            "max_height": null,
            "max_width": null,
            "min_height": null,
            "min_width": null,
            "object_fit": null,
            "object_position": null,
            "order": null,
            "overflow": null,
            "overflow_x": null,
            "overflow_y": null,
            "padding": null,
            "right": null,
            "top": null,
            "visibility": null,
            "width": null
          }
        },
        "e81754db1825440ba25b27bdc0be00c9": {
          "model_module": "@jupyter-widgets/controls",
          "model_module_version": "1.5.0",
          "model_name": "HTMLModel",
          "state": {
            "_dom_classes": [],
            "_model_module": "@jupyter-widgets/controls",
            "_model_module_version": "1.5.0",
            "_model_name": "HTMLModel",
            "_view_count": null,
            "_view_module": "@jupyter-widgets/controls",
            "_view_module_version": "1.5.0",
            "_view_name": "HTMLView",
            "description": "",
            "description_tooltip": null,
            "layout": "IPY_MODEL_4d65a19476ff484489d3553d3dc8f542",
            "placeholder": "​",
            "style": "IPY_MODEL_b0789a2bbaa8446796288c9807dce98d",
            "value": "Loading checkpoint shards: 100%"
          }
        },
        "e81884c082f74680b09384a0a00080b8": {
          "model_module": "@jupyter-widgets/base",
          "model_module_version": "1.2.0",
          "model_name": "LayoutModel",
          "state": {
            "_model_module": "@jupyter-widgets/base",
            "_model_module_version": "1.2.0",
            "_model_name": "LayoutModel",
            "_view_count": null,
            "_view_module": "@jupyter-widgets/base",
            "_view_module_version": "1.2.0",
            "_view_name": "LayoutView",
            "align_content": null,
            "align_items": null,
            "align_self": null,
            "border": null,
            "bottom": null,
            "display": null,
            "flex": null,
            "flex_flow": null,
            "grid_area": null,
            "grid_auto_columns": null,
            "grid_auto_flow": null,
            "grid_auto_rows": null,
            "grid_column": null,
            "grid_gap": null,
            "grid_row": null,
            "grid_template_areas": null,
            "grid_template_columns": null,
            "grid_template_rows": null,
            "height": null,
            "justify_content": null,
            "justify_items": null,
            "left": null,
            "margin": null,
            "max_height": null,
            "max_width": null,
            "min_height": null,
            "min_width": null,
            "object_fit": null,
            "object_position": null,
            "order": null,
            "overflow": null,
            "overflow_x": null,
            "overflow_y": null,
            "padding": null,
            "right": null,
            "top": null,
            "visibility": null,
            "width": null
          }
        },
        "e94c69fb8ff74d0fbfec209096cd8d72": {
          "model_module": "@jupyter-widgets/controls",
          "model_module_version": "1.5.0",
          "model_name": "ProgressStyleModel",
          "state": {
            "_model_module": "@jupyter-widgets/controls",
            "_model_module_version": "1.5.0",
            "_model_name": "ProgressStyleModel",
            "_view_count": null,
            "_view_module": "@jupyter-widgets/base",
            "_view_module_version": "1.2.0",
            "_view_name": "StyleView",
            "bar_color": null,
            "description_width": ""
          }
        },
        "e9575fe3e069455d81fc762c542ee6e9": {
          "model_module": "@jupyter-widgets/base",
          "model_module_version": "1.2.0",
          "model_name": "LayoutModel",
          "state": {
            "_model_module": "@jupyter-widgets/base",
            "_model_module_version": "1.2.0",
            "_model_name": "LayoutModel",
            "_view_count": null,
            "_view_module": "@jupyter-widgets/base",
            "_view_module_version": "1.2.0",
            "_view_name": "LayoutView",
            "align_content": null,
            "align_items": null,
            "align_self": null,
            "border": null,
            "bottom": null,
            "display": null,
            "flex": null,
            "flex_flow": null,
            "grid_area": null,
            "grid_auto_columns": null,
            "grid_auto_flow": null,
            "grid_auto_rows": null,
            "grid_column": null,
            "grid_gap": null,
            "grid_row": null,
            "grid_template_areas": null,
            "grid_template_columns": null,
            "grid_template_rows": null,
            "height": null,
            "justify_content": null,
            "justify_items": null,
            "left": null,
            "margin": null,
            "max_height": null,
            "max_width": null,
            "min_height": null,
            "min_width": null,
            "object_fit": null,
            "object_position": null,
            "order": null,
            "overflow": null,
            "overflow_x": null,
            "overflow_y": null,
            "padding": null,
            "right": null,
            "top": null,
            "visibility": null,
            "width": null
          }
        },
        "e999c06476c145f0aef38a8224bf42f2": {
          "model_module": "@jupyter-widgets/controls",
          "model_module_version": "1.5.0",
          "model_name": "DescriptionStyleModel",
          "state": {
            "_model_module": "@jupyter-widgets/controls",
            "_model_module_version": "1.5.0",
            "_model_name": "DescriptionStyleModel",
            "_view_count": null,
            "_view_module": "@jupyter-widgets/base",
            "_view_module_version": "1.2.0",
            "_view_name": "StyleView",
            "description_width": ""
          }
        },
        "ebae0f2b631a41f18be1e622327bc16e": {
          "model_module": "@jupyter-widgets/base",
          "model_module_version": "1.2.0",
          "model_name": "LayoutModel",
          "state": {
            "_model_module": "@jupyter-widgets/base",
            "_model_module_version": "1.2.0",
            "_model_name": "LayoutModel",
            "_view_count": null,
            "_view_module": "@jupyter-widgets/base",
            "_view_module_version": "1.2.0",
            "_view_name": "LayoutView",
            "align_content": null,
            "align_items": null,
            "align_self": null,
            "border": null,
            "bottom": null,
            "display": null,
            "flex": null,
            "flex_flow": null,
            "grid_area": null,
            "grid_auto_columns": null,
            "grid_auto_flow": null,
            "grid_auto_rows": null,
            "grid_column": null,
            "grid_gap": null,
            "grid_row": null,
            "grid_template_areas": null,
            "grid_template_columns": null,
            "grid_template_rows": null,
            "height": null,
            "justify_content": null,
            "justify_items": null,
            "left": null,
            "margin": null,
            "max_height": null,
            "max_width": null,
            "min_height": null,
            "min_width": null,
            "object_fit": null,
            "object_position": null,
            "order": null,
            "overflow": null,
            "overflow_x": null,
            "overflow_y": null,
            "padding": null,
            "right": null,
            "top": null,
            "visibility": null,
            "width": null
          }
        },
        "f68faa95ee81423583d25cbf985c18c1": {
          "model_module": "@jupyter-widgets/controls",
          "model_module_version": "1.5.0",
          "model_name": "HTMLModel",
          "state": {
            "_dom_classes": [],
            "_model_module": "@jupyter-widgets/controls",
            "_model_module_version": "1.5.0",
            "_model_name": "HTMLModel",
            "_view_count": null,
            "_view_module": "@jupyter-widgets/controls",
            "_view_module_version": "1.5.0",
            "_view_name": "HTMLView",
            "description": "",
            "description_tooltip": null,
            "layout": "IPY_MODEL_a97f8d8440924ce99afd3c3049484416",
            "placeholder": "​",
            "style": "IPY_MODEL_e51affe9cc3c423f8bce4f40464c0694",
            "value": " 609/609 [00:00&lt;00:00, 952.04 examples/s]"
          }
        },
        "f8eb5e48aa0849ffbf44f8958ea8fe63": {
          "model_module": "@jupyter-widgets/base",
          "model_module_version": "1.2.0",
          "model_name": "LayoutModel",
          "state": {
            "_model_module": "@jupyter-widgets/base",
            "_model_module_version": "1.2.0",
            "_model_name": "LayoutModel",
            "_view_count": null,
            "_view_module": "@jupyter-widgets/base",
            "_view_module_version": "1.2.0",
            "_view_name": "LayoutView",
            "align_content": null,
            "align_items": null,
            "align_self": null,
            "border": null,
            "bottom": null,
            "display": null,
            "flex": null,
            "flex_flow": null,
            "grid_area": null,
            "grid_auto_columns": null,
            "grid_auto_flow": null,
            "grid_auto_rows": null,
            "grid_column": null,
            "grid_gap": null,
            "grid_row": null,
            "grid_template_areas": null,
            "grid_template_columns": null,
            "grid_template_rows": null,
            "height": null,
            "justify_content": null,
            "justify_items": null,
            "left": null,
            "margin": null,
            "max_height": null,
            "max_width": null,
            "min_height": null,
            "min_width": null,
            "object_fit": null,
            "object_position": null,
            "order": null,
            "overflow": null,
            "overflow_x": null,
            "overflow_y": null,
            "padding": null,
            "right": null,
            "top": null,
            "visibility": null,
            "width": null
          }
        },
        "fa417e62ddb648f9b3270898f4fd02cb": {
          "model_module": "@jupyter-widgets/controls",
          "model_module_version": "1.5.0",
          "model_name": "HTMLModel",
          "state": {
            "_dom_classes": [],
            "_model_module": "@jupyter-widgets/controls",
            "_model_module_version": "1.5.0",
            "_model_name": "HTMLModel",
            "_view_count": null,
            "_view_module": "@jupyter-widgets/controls",
            "_view_module_version": "1.5.0",
            "_view_name": "HTMLView",
            "description": "",
            "description_tooltip": null,
            "layout": "IPY_MODEL_25042e1b237340beb25c599abd099a27",
            "placeholder": "​",
            "style": "IPY_MODEL_0644d29fa4834f7699d2633b0d47cea5",
            "value": "Converting train dataset to ChatML: 100%"
          }
        },
        "fdc3a1d2fdc942618ef8b3c3503dcfed": {
          "model_module": "@jupyter-widgets/base",
          "model_module_version": "1.2.0",
          "model_name": "LayoutModel",
          "state": {
            "_model_module": "@jupyter-widgets/base",
            "_model_module_version": "1.2.0",
            "_model_name": "LayoutModel",
            "_view_count": null,
            "_view_module": "@jupyter-widgets/base",
            "_view_module_version": "1.2.0",
            "_view_name": "LayoutView",
            "align_content": null,
            "align_items": null,
            "align_self": null,
            "border": null,
            "bottom": null,
            "display": null,
            "flex": null,
            "flex_flow": null,
            "grid_area": null,
            "grid_auto_columns": null,
            "grid_auto_flow": null,
            "grid_auto_rows": null,
            "grid_column": null,
            "grid_gap": null,
            "grid_row": null,
            "grid_template_areas": null,
            "grid_template_columns": null,
            "grid_template_rows": null,
            "height": null,
            "justify_content": null,
            "justify_items": null,
            "left": null,
            "margin": null,
            "max_height": null,
            "max_width": null,
            "min_height": null,
            "min_width": null,
            "object_fit": null,
            "object_position": null,
            "order": null,
            "overflow": null,
            "overflow_x": null,
            "overflow_y": null,
            "padding": null,
            "right": null,
            "top": null,
            "visibility": null,
            "width": null
          }
        }
      }
    }
  },
  "nbformat": 4,
  "nbformat_minor": 0
}
